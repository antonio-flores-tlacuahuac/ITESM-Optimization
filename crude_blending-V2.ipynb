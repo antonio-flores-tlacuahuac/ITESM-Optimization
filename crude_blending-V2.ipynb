{
 "cells": [
  {
   "cell_type": "markdown",
   "metadata": {},
   "source": [
    "#### Optimal Blending of Oil Crudes"
   ]
  },
  {
   "cell_type": "code",
   "execution_count": 151,
   "metadata": {},
   "outputs": [],
   "source": [
    "using JuMP, Clp, Plots,Printf"
   ]
  },
  {
   "cell_type": "code",
   "execution_count": 152,
   "metadata": {},
   "outputs": [],
   "source": [
    "crude_blending = Model(solver=ClpSolver());"
   ]
  },
  {
   "cell_type": "code",
   "execution_count": 153,
   "metadata": {},
   "outputs": [],
   "source": [
    "price_c1        = 35    # Cost of crude 1  [$/bbl]\n",
    "price_c2        = 25    # Cost of crude 2  [$/bbl]\n",
    "price_c3        = 55    # Cost of crude 3  [$/bbl]\n",
    "\n",
    "pc_c1           = 1.6     # Crude 1 processing cost [$/bbl]\n",
    "pc_c2           = 1.4  # Crude 2 processing cost [$/bbl]\n",
    "pc_c3           = 1.0  # Crude 3 processing cost [$/bbl]\n",
    "\n",
    "price_gasoline  = 45 # Cost of gasoline [$/bbl]\n",
    "price_kerosene  = 37 # Cost of kerosene [$/bbl]\n",
    "price_jetfuel   = 30 # Cost of jetfuel  [$/bbl]\n",
    "price_residual  = 18 # Cost of residual [$/bbl]\n",
    "\n",
    "Dgasoline       = 35000 # Gasoline demand [bbl/day]\n",
    "Dkerosene       = 7000  # Gasoline demand [bbl/day]\n",
    "Djetfuel        = 10000 # Gasoline demand [bbl/day]\n",
    "Dresidual       = 5000 # Gasoline demand [bbl/day];\n",
    "\n",
    "Acrude1         = 35000; # Crude 1 amount available [bbl/day]\n",
    "Acrude2         = 45000; # Crude 2 amount available [bbl/day]\n",
    "Acrude3         = 40000; # Crude 3 amount available [bbl/day]"
   ]
  },
  {
   "cell_type": "code",
   "execution_count": 154,
   "metadata": {},
   "outputs": [],
   "source": [
    "@variable(crude_blending, bcrude1   >= 0, start = 10000)  # [bbl/day]\n",
    "@variable(crude_blending, bcrude2   >= 0, start = 10000)  # [bbl/day]\n",
    "@variable(crude_blending, bcrude3   >= 0, start = 10000)  # [bbl/day]\n",
    "@variable(crude_blending, bgasoline >= 0, start = 10000)  # [bbl/day]\n",
    "@variable(crude_blending, bkerosene >= 0, start = 10000)  # [bbl/day]\n",
    "@variable(crude_blending, bjetfuel  >= 0, start = 10000)  # [bbl/day]\n",
    "@variable(crude_blending, bresidual >= 0, start = 10000)  # [bbl/day];"
   ]
  },
  {
   "cell_type": "markdown",
   "metadata": {},
   "source": [
    "#### Amount of manufactured products [bbl/day]"
   ]
  },
  {
   "cell_type": "code",
   "execution_count": 155,
   "metadata": {},
   "outputs": [],
   "source": [
    "@constraint(crude_blending, c1, bgasoline == 0.75bcrude1 + 0.50bcrude2 + 0.60*bcrude3)\n",
    "@constraint(crude_blending, c2, bkerosene == 0.10bcrude1 + 0.15bcrude2 + 0.18*bcrude3)\n",
    "@constraint(crude_blending, c3, bjetfuel  == 0.10bcrude1 + 0.25bcrude2 + 0.20*bcrude3)\n",
    "@constraint(crude_blending, c4, bresidual == 0.05bcrude1 + 0.10bcrude2 + 0.12*bcrude3);"
   ]
  },
  {
   "cell_type": "markdown",
   "metadata": {},
   "source": [
    "#### Meet products demand"
   ]
  },
  {
   "cell_type": "code",
   "execution_count": 156,
   "metadata": {},
   "outputs": [],
   "source": [
    "@constraint(crude_blending, c5, bgasoline <= Dgasoline)\n",
    "@constraint(crude_blending, c6, bkerosene >= Dkerosene)\n",
    "@constraint(crude_blending, c7, bjetfuel  >= Djetfuel)\n",
    "@constraint(crude_blending, c8, bresidual >= Dresidual);"
   ]
  },
  {
   "cell_type": "markdown",
   "metadata": {},
   "source": [
    "#### The amount of deployed crude should be smaller than the available supply"
   ]
  },
  {
   "cell_type": "code",
   "execution_count": 157,
   "metadata": {},
   "outputs": [],
   "source": [
    "@constraint(crude_blending, c9,  bcrude1 <= Acrude1)\n",
    "@constraint(crude_blending, c10, bcrude2 <= Acrude2)\n",
    "@constraint(crude_blending, c11, bcrude3 <= Acrude3);"
   ]
  },
  {
   "cell_type": "markdown",
   "metadata": {},
   "source": [
    "#### Objective Function: Maximize Profits"
   ]
  },
  {
   "cell_type": "code",
   "execution_count": 158,
   "metadata": {},
   "outputs": [],
   "source": [
    "@objective(crude_blending, Max, price_gasoline*bgasoline + price_kerosene*bkerosene + price_jetfuel*bjetfuel +\n",
    "                           price_residual*bresidual - price_c1*bcrude1 - price_c2*bcrude2 - price_c3*bcrude3 - \n",
    "                           pc_c1*bcrude1 - pc_c2*bcrude2 - pc_c3*bcrude3);"
   ]
  },
  {
   "cell_type": "code",
   "execution_count": 159,
   "metadata": {},
   "outputs": [
    {
     "data": {
      "text/plain": [
       ":Optimal"
      ]
     },
     "execution_count": 159,
     "metadata": {},
     "output_type": "execute_result"
    }
   ],
   "source": [
    "status_crude_blending = solve(crude_blending)"
   ]
  },
  {
   "cell_type": "code",
   "execution_count": 160,
   "metadata": {},
   "outputs": [
    {
     "name": "stdout",
     "output_type": "stream",
     "text": [
      "Status of the problem is: Optimal\n",
      "Objective function value [$/day] = 571916.6666666669\n",
      "---------------------------------------\n",
      " Raw Material [bbl/day]\n",
      " Crude No. 1: 16666.666667\n",
      " Crude No. 2: 45000.000000\n",
      " Crude No. 3: 0.000000\n",
      "---------------------------------------\n",
      " Products [bbl/day]         Demand [bbl/day]\n",
      " Gasoline: 35000.00            35000.00\n",
      " Keronese:  8416.67             7000.00\n",
      " Jet Fuel: 12916.67            10000.00\n",
      " Residual:  5333.33             5000.00\n",
      "---------------------------------------\n"
     ]
    }
   ],
   "source": [
    "println(\"Status of the problem is: \", status_crude_blending)\n",
    "println(\"Objective function value [\\$/day] = \", getobjectivevalue(crude_blending))\n",
    "println(\"---------------------------------------\")\n",
    "println(\" Raw Material [bbl/day]\")\n",
    "@printf \" Crude No. 1: %f\\n\" getvalue(bcrude1)\n",
    "@printf \" Crude No. 2: %f\\n\" getvalue(bcrude2)\n",
    "@printf \" Crude No. 3: %f\\n\" getvalue(bcrude3)\n",
    "println(\"---------------------------------------\")\n",
    "println(\" Products [bbl/day]         Demand [bbl/day]\")\n",
    "@printf \" Gasoline: %8.2f            %8.2f\\n\" getvalue(bgasoline)  Dgasoline\n",
    "@printf \" Keronese: %8.2f            %8.2f\\n\" getvalue(bkerosene)  Dkerosene\n",
    "@printf \" Jet Fuel: %8.2f            %8.2f\\n\" getvalue(bjetfuel)   Djetfuel\n",
    "@printf \" Residual: %8.2f            %8.2f\\n\" getvalue(bresidual)  Dresidual\n",
    "println(\"---------------------------------------\")\n"
   ]
  },
  {
   "cell_type": "code",
   "execution_count": null,
   "metadata": {},
   "outputs": [],
   "source": []
  }
 ],
 "metadata": {
  "kernelspec": {
   "display_name": "Julia 1.0.3",
   "language": "julia",
   "name": "julia-1.0"
  },
  "language_info": {
   "file_extension": ".jl",
   "mimetype": "application/julia",
   "name": "julia",
   "version": "1.0.3"
  }
 },
 "nbformat": 4,
 "nbformat_minor": 2
}
