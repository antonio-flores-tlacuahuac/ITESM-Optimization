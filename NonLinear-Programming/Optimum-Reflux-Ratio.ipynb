{
 "cells": [
  {
   "cell_type": "code",
   "execution_count": 148,
   "metadata": {},
   "outputs": [],
   "source": [
    "using JuMP, Ipopt, Printf, Plots"
   ]
  },
  {
   "cell_type": "markdown",
   "metadata": {},
   "source": [
    "### Data"
   ]
  },
  {
   "cell_type": "code",
   "execution_count": 149,
   "metadata": {},
   "outputs": [],
   "source": [
    "xf           = 0.7      ;  # Feed stream propylene mol fraction\n",
    "xd_target    = 0.95     ; # Target distillate stream Propylene mol fraction\n",
    "mw_propylene = 42.98 ; # [lb/lbmol]\n",
    "mw_propane   = 44.1  ; # [lb/lbmol]\n",
    "mw_feed      = mw_propylene*xf + mw_propane*(1-xf);\n",
    "mw_dist      = mw_propylene*xd_target + mw_propane*(1-xd_target);\n",
    "\n",
    "cr           = 1e-6     ; # Reboiler heat cost [$/BTU]\n",
    "cc           = 3e-05    ; # Condenser cooling cost [$/BTU]\n",
    "cb           = 0.09     ; # Value of Propylene in bottoms [$/lb]\n",
    "cbp          = 0.12     ; # Value of Propane in bottoms [$/lb]\n",
    "cf           = 0.05     ; # Cost per pound of propylene [$/lb]\n",
    "cfp          = 0.05     ; # Cost per pound of propane [$/lb]\n",
    "cd           = 0.2      ; # Value of propylene in overhead [$/lb]\n",
    "cdp          = 0.2      ; # Value of propane in overhead [$/lb]\n",
    "\n",
    "cf           = cf*mw_propylene; # [$/lbmol]\n",
    "cfp          = cfp*mw_propane; # [$/lbmol]\n",
    "cd           = cd*mw_propylene;  # [$/lbmol]\n",
    "cdp          = cdp*mw_propane; # [$/lbmol]\n",
    "\n",
    "f            = 1200000  ; # Feed flowrate [lb/day]\n",
    "f            = f/mw_feed; # [lbmol/day]\n",
    "alpha        = 1.105    ; # Relative volatility\n",
    "lambda       = 130      ; # Vaporization latent heat [BTU/lb]\n",
    "nt           = 94       ; # Total number of trays\n",
    "rmin         = 1/(alpha-1) * ((xd_target/xf) - alpha*(1-xd_target)/(1-xf)); # Minimum Reflux Ratio"
   ]
  },
  {
   "cell_type": "code",
   "execution_count": 150,
   "metadata": {},
   "outputs": [],
   "source": [
    "optimum_reflux = Model(solver=IpoptSolver());"
   ]
  },
  {
   "cell_type": "markdown",
   "metadata": {},
   "source": [
    "### Decision variables"
   ]
  },
  {
   "cell_type": "code",
   "execution_count": 151,
   "metadata": {},
   "outputs": [],
   "source": [
    "@variable(optimum_reflux, rmin   <= r    <= 20,   start = 1.2*rmin   );\n",
    "@variable(optimum_reflux, 0      <= nmin <= nt,   start = 0.5*nt     );\n",
    "@variable(optimum_reflux, 0      <= xb   <= 0.05, start = 0.04       );\n",
    "@variable(optimum_reflux, 0      <= d    <= f,    start = f*xf       );\n",
    "@variable(optimum_reflux, 0      <= b    <= f,    start = f*(1-xf)   );\n",
    "@variable(optimum_reflux, l      >=0,             start = f          );\n",
    "@variable(optimum_reflux, v      >=0,             start = f          );\n",
    "@variable(optimum_reflux, mw_bot >=0,             start = mw_propane );"
   ]
  },
  {
   "cell_type": "markdown",
   "metadata": {},
   "source": [
    "### Minimum number of trays"
   ]
  },
  {
   "cell_type": "code",
   "execution_count": 152,
   "metadata": {},
   "outputs": [],
   "source": [
    "@NLconstraint(optimum_reflux, c2, (nt-nmin)/(nt+1) == 0.75*(1 - ( (r-rmin)/(r+1) )^(0.5668))); "
   ]
  },
  {
   "cell_type": "markdown",
   "metadata": {},
   "source": [
    "### Bottoms mol fraction"
   ]
  },
  {
   "cell_type": "code",
   "execution_count": 153,
   "metadata": {},
   "outputs": [],
   "source": [
    "@NLconstraint(optimum_reflux, c3, nmin*log(alpha) == log((xd_target/(1-xd_target))*((1-xb)/xb)));\n",
    "@NLconstraint(optimum_reflux, c1, mw_bot == xb*mw_propylene + (1-xb)*mw_propane);"
   ]
  },
  {
   "cell_type": "markdown",
   "metadata": {},
   "source": [
    "### Mass balance constraints"
   ]
  },
  {
   "cell_type": "code",
   "execution_count": 154,
   "metadata": {},
   "outputs": [],
   "source": [
    "@NLconstraint(optimum_reflux, c4, f == d+b);\n",
    "@NLconstraint(optimum_reflux, c5, f*xf == d*xd_target + b*xb);"
   ]
  },
  {
   "cell_type": "markdown",
   "metadata": {},
   "source": [
    "### Internal constant flowrates"
   ]
  },
  {
   "cell_type": "code",
   "execution_count": 155,
   "metadata": {},
   "outputs": [],
   "source": [
    "@NLconstraint(optimum_reflux, c6, l == r*d);\n",
    "@NLconstraint(optimum_reflux, c7, v == (r+1)*d);"
   ]
  },
  {
   "cell_type": "markdown",
   "metadata": {},
   "source": [
    "### Objective function"
   ]
  },
  {
   "cell_type": "code",
   "execution_count": 156,
   "metadata": {},
   "outputs": [],
   "source": [
    "@NLobjective(optimum_reflux, Max, (cd*xd_target*d) + (cbp*(1-xb)*b*mw_bot) \n",
    "                                  - (cr*lambda*mw_bot*v + cc*lambda*mw_dist*v) - (cf*xf*f + cfp*(1-xf)*f) ) ;"
   ]
  },
  {
   "cell_type": "markdown",
   "metadata": {},
   "source": [
    "### Solve problem"
   ]
  },
  {
   "cell_type": "code",
   "execution_count": 157,
   "metadata": {},
   "outputs": [
    {
     "name": "stdout",
     "output_type": "stream",
     "text": [
      "This is Ipopt version 3.12.10, running with linear solver mumps.\n",
      "NOTE: Other linear solvers might be more efficient (see Ipopt documentation).\n",
      "\n",
      "Number of nonzeros in equality constraint Jacobian...:       17\n",
      "Number of nonzeros in inequality constraint Jacobian.:        0\n",
      "Number of nonzeros in Lagrangian Hessian.............:       19\n",
      "\n",
      "Total number of variables............................:        8\n",
      "                     variables with only lower bounds:        3\n",
      "                variables with lower and upper bounds:        5\n",
      "                     variables with only upper bounds:        0\n",
      "Total number of equality constraints.................:        7\n",
      "Total number of inequality constraints...............:        0\n",
      "        inequality constraints with only lower bounds:        0\n",
      "   inequality constraints with lower and upper bounds:        0\n",
      "        inequality constraints with only upper bounds:        0\n",
      "\n",
      "iter    objective    inf_pr   inf_du lg(mu)  ||d||  lg(rg) alpha_du alpha_pr  ls\n",
      "   0 -1.3577604e+05 2.52e+05 1.00e+00  -1.0 0.00e+00    -  0.00e+00 0.00e+00   0\n",
      "   1 -1.3506844e+05 2.43e+05 2.51e+01  -1.0 8.81e+03    -  1.80e-01 3.54e-02h  1\n",
      "   2 -1.3506119e+05 2.43e+05 1.15e+04  -1.0 9.41e+03    -  4.08e-01 2.79e-04h  1\n",
      "   3 -1.3498840e+05 2.42e+05 6.69e+05  -1.0 2.96e+05    -  8.57e-02 1.48e-03h  1\n",
      "   4 -8.5761095e+04 1.54e+03 3.70e+05  -1.0 2.96e+05    -  8.69e-02 1.00e+00h  1\n",
      "   5 -8.1799362e+04 3.60e-03 1.23e+05  -1.0 2.28e+04    -  7.91e-01 1.00e+00h  1\n",
      "   6 -8.1369444e+04 5.92e-04 2.84e+03  -1.0 2.48e+03    -  9.84e-01 1.00e+00h  1\n",
      "   7 -8.1359670e+04 5.89e-04 2.70e+01  -1.0 6.51e+01    -  9.93e-01 1.00e+00f  1\n",
      "   8 -8.1323380e+04 1.68e-02 8.33e-03  -1.0 2.72e+02    -  1.00e+00 1.00e+00f  1\n",
      "   9 -8.1363165e+04 2.01e-02 2.23e-02  -2.5 2.98e+02    -  1.00e+00 1.00e+00f  1\n",
      "iter    objective    inf_pr   inf_du lg(mu)  ||d||  lg(rg) alpha_du alpha_pr  ls\n",
      "  10 -8.1364895e+04 4.20e-05 3.56e-05  -3.8 1.32e+01    -  1.00e+00 1.00e+00h  1\n",
      "  11 -8.1364961e+04 5.60e-08 5.89e-08  -5.7 4.95e-01    -  1.00e+00 1.00e+00h  1\n",
      "  12 -8.1364962e+04 1.16e-10 8.64e-12  -8.6 6.08e-03    -  1.00e+00 1.00e+00h  1\n",
      "\n",
      "Number of Iterations....: 12\n",
      "\n",
      "                                   (scaled)                 (unscaled)\n",
      "Objective...............:  -1.8499646733443367e+02   -8.1364962103651385e+04\n",
      "Dual infeasibility......:   8.6401996668428183e-12    3.8001240163670687e-09\n",
      "Constraint violation....:   6.0031500955422714e-13    1.1641532182693481e-10\n",
      "Complementarity.........:   2.5065239281164436e-09    1.1024168588819836e-06\n",
      "Overall NLP error.......:   2.5065239281164436e-09    1.1024168588819836e-06\n",
      "\n",
      "\n",
      "Number of objective function evaluations             = 13\n",
      "Number of objective gradient evaluations             = 13\n",
      "Number of equality constraint evaluations            = 13\n",
      "Number of inequality constraint evaluations          = 0\n",
      "Number of equality constraint Jacobian evaluations   = 13\n",
      "Number of inequality constraint Jacobian evaluations = 0\n",
      "Number of Lagrangian Hessian evaluations             = 12\n",
      "Total CPU secs in IPOPT (w/o function evaluations)   =      0.005\n",
      "Total CPU secs in NLP function evaluations           =      0.001\n",
      "\n",
      "EXIT: Optimal Solution Found.\n"
     ]
    },
    {
     "data": {
      "text/plain": [
       ":Optimal"
      ]
     },
     "execution_count": 157,
     "metadata": {},
     "output_type": "execute_result"
    }
   ],
   "source": [
    "status_optimum_reflux = solve(optimum_reflux)"
   ]
  },
  {
   "cell_type": "code",
   "execution_count": 158,
   "metadata": {},
   "outputs": [
    {
     "name": "stdout",
     "output_type": "stream",
     "text": [
      "Objective function value = 81364.96210365139\n",
      " r    : 16.468497\n",
      " nmin : 58.979999\n",
      " xb   : 0.050000\n",
      " d    : 20008.003116\n",
      " b    : 7695.385932\n",
      " L    : 329501.730790\n",
      " V    : 349509.733905\n",
      " F    : 27703.389048\n"
     ]
    }
   ],
   "source": [
    "println(\"Objective function value = \", getobjectivevalue(optimum_reflux))\n",
    "@printf \" r    : %f\\n\" getvalue(r)\n",
    "@printf \" nmin : %f\\n\" getvalue(nmin)\n",
    "@printf \" xb   : %f\\n\" getvalue(xb)\n",
    "@printf \" d    : %f\\n\" getvalue(d)\n",
    "@printf \" b    : %f\\n\" getvalue(b)\n",
    "@printf \" L    : %f\\n\" getvalue(l)\n",
    "@printf \" V    : %f\\n\" getvalue(v)\n",
    "@printf \" F    : %f\\n\" f\n",
    "\n"
   ]
  },
  {
   "cell_type": "code",
   "execution_count": null,
   "metadata": {},
   "outputs": [],
   "source": []
  }
 ],
 "metadata": {
  "kernelspec": {
   "display_name": "Julia 1.0.3",
   "language": "julia",
   "name": "julia-1.0"
  },
  "language_info": {
   "file_extension": ".jl",
   "mimetype": "application/julia",
   "name": "julia",
   "version": "1.0.3"
  }
 },
 "nbformat": 4,
 "nbformat_minor": 2
}
