{
 "cells": [
  {
   "cell_type": "markdown",
   "metadata": {},
   "source": [
    "# Using Julia/JuMP/IPOPT for solving NonLinear Optimization Problems\n",
    "\n",
    "### Consider solving the following NLP:\n",
    "\\begin{eqnarray}\n",
    "{\\rm Min}\\,\\, \\Omega(x) &=& (x_1-1)^2 + (x_1-x_2)^2 + (x_2-x_3)^2 + (x_3-x_4)^4 + (x_4-x_5)^4 \\\\\n",
    "s.t. & & \\\\\n",
    " & & x_1 + x_2^2 +x_3^2 = 6.24264 \\\\\n",
    " & & x_2 - x_3^2 + x_4 = 0.8284271 \\\\\n",
    " & & x_1 x_5 = 2\n",
    "\\end{eqnarray}\n",
    "\n"
   ]
  },
  {
   "cell_type": "markdown",
   "metadata": {},
   "source": [
    "### Load the algebraic language and solver to be used"
   ]
  },
  {
   "cell_type": "code",
   "execution_count": 17,
   "metadata": {},
   "outputs": [],
   "source": [
    "using JuMP, Ipopt, Printf"
   ]
  },
  {
   "cell_type": "markdown",
   "metadata": {},
   "source": [
    "### Declare the name of your problem and solver to be used"
   ]
  },
  {
   "cell_type": "code",
   "execution_count": 18,
   "metadata": {},
   "outputs": [],
   "source": [
    "NLP_model = Model(solver=IpoptSolver());"
   ]
  },
  {
   "cell_type": "markdown",
   "metadata": {},
   "source": [
    "### Declare decision variables"
   ]
  },
  {
   "cell_type": "code",
   "execution_count": 19,
   "metadata": {},
   "outputs": [],
   "source": [
    "@variable(NLP_model, x[1:5], start = 0);"
   ]
  },
  {
   "cell_type": "markdown",
   "metadata": {},
   "source": [
    "### Append the non-linear objective function"
   ]
  },
  {
   "cell_type": "code",
   "execution_count": 20,
   "metadata": {},
   "outputs": [],
   "source": [
    "@NLobjective(NLP_model, Min, (x[1]-1)^2 +  (x[1]-x[2])^2 + (x[2]-x[3])^2 + (x[3]-x[4])^4 + (x[4]-x[5])^4 );"
   ]
  },
  {
   "cell_type": "markdown",
   "metadata": {},
   "source": [
    "### Include nonlinear-constraints"
   ]
  },
  {
   "cell_type": "code",
   "execution_count": 21,
   "metadata": {},
   "outputs": [],
   "source": [
    "@NLconstraint(NLP_model, con1, x[1] + x[2]^2 + x[3]^2 == 6.24264   )\n",
    "@NLconstraint(NLP_model, con2, x[2] - x[3]^2 + x[4]   == 0.8284271 )\n",
    "@NLconstraint(NLP_model, con3, x[1]*x[5]              == 2         );"
   ]
  },
  {
   "cell_type": "markdown",
   "metadata": {},
   "source": [
    "### Solve the NLP problem"
   ]
  },
  {
   "cell_type": "code",
   "execution_count": 22,
   "metadata": {},
   "outputs": [
    {
     "name": "stdout",
     "output_type": "stream",
     "text": [
      "This is Ipopt version 3.12.10, running with linear solver mumps.\n",
      "NOTE: Other linear solvers might be more efficient (see Ipopt documentation).\n",
      "\n",
      "Number of nonzeros in equality constraint Jacobian...:        8\n",
      "Number of nonzeros in inequality constraint Jacobian.:        0\n",
      "Number of nonzeros in Lagrangian Hessian.............:       15\n",
      "\n",
      "Total number of variables............................:        5\n",
      "                     variables with only lower bounds:        0\n",
      "                variables with lower and upper bounds:        0\n",
      "                     variables with only upper bounds:        0\n",
      "Total number of equality constraints.................:        3\n",
      "Total number of inequality constraints...............:        0\n",
      "        inequality constraints with only lower bounds:        0\n",
      "   inequality constraints with lower and upper bounds:        0\n",
      "        inequality constraints with only upper bounds:        0\n",
      "\n",
      "iter    objective    inf_pr   inf_du lg(mu)  ||d||  lg(rg) alpha_du alpha_pr  ls\n",
      "   0  1.0000000e+00 6.24e+00 2.00e+00  -1.0 0.00e+00    -  0.00e+00 0.00e+00   0\n",
      "   1  7.0602909e+01 2.97e+00 1.39e+08  -1.0 6.24e+00  -2.0 1.00e+00 2.50e-01h  3\n",
      "   2r 7.0602909e+01 2.97e+00 9.99e+02   0.5 0.00e+00    -  0.00e+00 4.77e-07R 22\n",
      "   3r 2.3488346e+01 1.01e+00 4.87e+02   0.5 2.18e+03    -  1.00e+00 1.35e-03f  1\n",
      "   4  4.6895147e+00 1.03e-01 1.80e+01  -1.0 1.05e+00    -  1.00e+00 1.00e+00f  1\n",
      "   5  1.4273351e+00 3.79e-02 3.45e+00  -1.0 4.85e-01    -  1.00e+00 1.00e+00f  1\n",
      "   6  4.9739084e-01 3.27e-02 1.58e+00  -1.0 4.77e-01    -  1.00e+00 1.00e+00f  1\n",
      "   7  2.8557740e-01 9.82e-03 5.06e-01  -1.0 3.00e-01    -  1.00e+00 1.00e+00f  1\n",
      "   8  1.9093828e-01 1.17e-02 2.32e-01  -1.7 3.18e-01    -  1.00e+00 1.00e+00h  1\n",
      "   9  1.8686144e-01 1.69e-02 3.91e-01  -1.7 3.88e-01    -  1.00e+00 1.00e+00h  1\n",
      "iter    objective    inf_pr   inf_du lg(mu)  ||d||  lg(rg) alpha_du alpha_pr  ls\n",
      "  10  1.6368797e-01 1.57e-03 7.80e-02  -1.7 1.16e-01    -  1.00e+00 1.00e+00h  1\n",
      "  11  1.6227210e-01 1.58e-04 6.37e-03  -2.5 3.71e-02    -  1.00e+00 1.00e+00h  1\n",
      "  12  1.6225264e-01 1.50e-06 5.51e-05  -3.8 3.63e-03    -  1.00e+00 1.00e+00h  1\n",
      "  13  1.6225255e-01 1.16e-10 4.21e-09  -5.7 3.19e-05    -  1.00e+00 1.00e+00h  1\n",
      "\n",
      "Number of Iterations....: 13\n",
      "\n",
      "                                   (scaled)                 (unscaled)\n",
      "Objective...............:   1.6225255127953428e-01    1.6225255127953428e-01\n",
      "Dual infeasibility......:   4.2117176829448155e-09    4.2117176829448155e-09\n",
      "Constraint violation....:   1.1593748183713615e-10    1.1593748183713615e-10\n",
      "Complementarity.........:   0.0000000000000000e+00    0.0000000000000000e+00\n",
      "Overall NLP error.......:   4.2117176829448155e-09    4.2117176829448155e-09\n",
      "\n",
      "\n",
      "Number of objective function evaluations             = 24\n",
      "Number of objective gradient evaluations             = 14\n",
      "Number of equality constraint evaluations            = 40\n",
      "Number of inequality constraint evaluations          = 0\n",
      "Number of equality constraint Jacobian evaluations   = 15\n",
      "Number of inequality constraint Jacobian evaluations = 0\n",
      "Number of Lagrangian Hessian evaluations             = 13\n",
      "Total CPU secs in IPOPT (w/o function evaluations)   =      0.006\n",
      "Total CPU secs in NLP function evaluations           =      0.001\n",
      "\n",
      "EXIT: Optimal Solution Found.\n"
     ]
    },
    {
     "data": {
      "text/plain": [
       ":Optimal"
      ]
     },
     "execution_count": 22,
     "metadata": {},
     "output_type": "execute_result"
    }
   ],
   "source": [
    "status_mymodel= solve(NLP_model)"
   ]
  },
  {
   "cell_type": "markdown",
   "metadata": {},
   "source": [
    "### Print optimal solution"
   ]
  },
  {
   "cell_type": "code",
   "execution_count": 25,
   "metadata": {},
   "outputs": [
    {
     "name": "stdout",
     "output_type": "stream",
     "text": [
      "Status of the problem is: Optimal\n",
      " x1 : 1.287089\n",
      " x2 : 1.555824\n",
      " x3 : 1.592157\n",
      " x4 : 1.807567\n",
      " x5 : 1.553894\n"
     ]
    }
   ],
   "source": [
    "println(\"Status of the problem is: \", status_mymodel)\n",
    "@printf \" x1 : %f\\n\" getvalue(x[1])\n",
    "@printf \" x2 : %f\\n\" getvalue(x[2])\n",
    "@printf \" x3 : %f\\n\" getvalue(x[3])\n",
    "@printf \" x4 : %f\\n\" getvalue(x[4])\n",
    "@printf \" x5 : %f\\n\" getvalue(x[5])"
   ]
  },
  {
   "cell_type": "code",
   "execution_count": null,
   "metadata": {},
   "outputs": [],
   "source": []
  }
 ],
 "metadata": {
  "kernelspec": {
   "display_name": "Julia 1.0.3",
   "language": "julia",
   "name": "julia-1.0"
  },
  "language_info": {
   "file_extension": ".jl",
   "mimetype": "application/julia",
   "name": "julia",
   "version": "1.0.3"
  }
 },
 "nbformat": 4,
 "nbformat_minor": 2
}
