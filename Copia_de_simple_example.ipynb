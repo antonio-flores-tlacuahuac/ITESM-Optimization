{
  "nbformat": 4,
  "nbformat_minor": 0,
  "metadata": {
    "colab": {
      "name": "Copia de simple_example.ipynb",
      "version": "0.3.2",
      "provenance": [],
      "include_colab_link": true
    },
    "kernelspec": {
      "name": "python3",
      "display_name": "Python 3"
    }
  },
  "cells": [
    {
      "cell_type": "markdown",
      "metadata": {
        "id": "view-in-github",
        "colab_type": "text"
      },
      "source": [
        "<a href=\"https://colab.research.google.com/github/antonio-flores-tlacuahuac/ITESM-Optimization/blob/master/Copia_de_simple_example.ipynb\" target=\"_parent\"><img src=\"https://colab.research.google.com/assets/colab-badge.svg\" alt=\"Open In Colab\"/></a>"
      ]
    },
    {
      "metadata": {
        "id": "BdXdeqzWGSO0",
        "colab_type": "code",
        "colab": {}
      },
      "cell_type": "code",
      "source": [
        "from keras.models import Sequential\n",
        "from keras.layers import Dense\n",
        "import numpy as np"
      ],
      "execution_count": 0,
      "outputs": []
    },
    {
      "metadata": {
        "id": "tAgSj5ScGcpi",
        "colab_type": "code",
        "colab": {}
      },
      "cell_type": "code",
      "source": [
        "np.random.seed(2018)\n",
        "train_data, test_data = np.random.random((1000,3)), np.random.random((500,3))\n",
        "labels = np.random.randint(2, size=(1000,1))"
      ],
      "execution_count": 0,
      "outputs": []
    },
    {
      "metadata": {
        "id": "8wZU4bUWHK-D",
        "colab_type": "code",
        "colab": {}
      },
      "cell_type": "code",
      "source": [
        "model = Sequential()\n",
        "model.add(Dense(5, input_dim=3, activation='relu'))\n",
        "model.add(Dense(1, activation='sigmoid'))\n",
        "model.compile(loss='binary_crossentropy', optimizer='adam', metrics=['accuracy'])"
      ],
      "execution_count": 0,
      "outputs": []
    },
    {
      "metadata": {
        "id": "1EtlchU6IKEu",
        "colab_type": "code",
        "outputId": "f9b004e1-96ff-4ee3-e982-37ae299f7550",
        "colab": {
          "base_uri": "https://localhost:8080/",
          "height": 454
        }
      },
      "cell_type": "code",
      "source": [
        "model.fit(train_data, labels, epochs=10, batch_size=32)"
      ],
      "execution_count": 0,
      "outputs": [
        {
          "output_type": "stream",
          "text": [
            "WARNING:tensorflow:From /usr/local/lib/python3.6/dist-packages/tensorflow/python/ops/math_ops.py:3066: to_int32 (from tensorflow.python.ops.math_ops) is deprecated and will be removed in a future version.\n",
            "Instructions for updating:\n",
            "Use tf.cast instead.\n",
            "Epoch 1/10\n",
            "1000/1000 [==============================] - 1s 763us/step - loss: 0.6960 - acc: 0.5020\n",
            "Epoch 2/10\n",
            "1000/1000 [==============================] - 0s 46us/step - loss: 0.6955 - acc: 0.5070\n",
            "Epoch 3/10\n",
            "1000/1000 [==============================] - 0s 46us/step - loss: 0.6952 - acc: 0.5060\n",
            "Epoch 4/10\n",
            "1000/1000 [==============================] - 0s 51us/step - loss: 0.6951 - acc: 0.4930\n",
            "Epoch 5/10\n",
            "1000/1000 [==============================] - 0s 49us/step - loss: 0.6949 - acc: 0.4910\n",
            "Epoch 6/10\n",
            "1000/1000 [==============================] - 0s 51us/step - loss: 0.6947 - acc: 0.4940\n",
            "Epoch 7/10\n",
            "1000/1000 [==============================] - 0s 49us/step - loss: 0.6947 - acc: 0.4790\n",
            "Epoch 8/10\n",
            "1000/1000 [==============================] - 0s 48us/step - loss: 0.6947 - acc: 0.4900\n",
            "Epoch 9/10\n",
            "1000/1000 [==============================] - 0s 53us/step - loss: 0.6945 - acc: 0.4810\n",
            "Epoch 10/10\n",
            "1000/1000 [==============================] - 0s 49us/step - loss: 0.6944 - acc: 0.4830\n"
          ],
          "name": "stdout"
        },
        {
          "output_type": "execute_result",
          "data": {
            "text/plain": [
              "<keras.callbacks.History at 0x7f631ad11ef0>"
            ]
          },
          "metadata": {
            "tags": []
          },
          "execution_count": 18
        }
      ]
    },
    {
      "metadata": {
        "id": "o-8HuU_SI_dw",
        "colab_type": "code",
        "colab": {}
      },
      "cell_type": "code",
      "source": [
        "predictions = model.predict(test_data)"
      ],
      "execution_count": 0,
      "outputs": []
    },
    {
      "metadata": {
        "id": "y479duisJHSv",
        "colab_type": "code",
        "colab": {}
      },
      "cell_type": "code",
      "source": [
        ""
      ],
      "execution_count": 0,
      "outputs": []
    }
  ]
}