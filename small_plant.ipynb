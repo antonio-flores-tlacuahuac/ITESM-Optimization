{
 "cells": [
  {
   "cell_type": "markdown",
   "metadata": {},
   "source": [
    "<img src=\"tec-logo.jpg\" width=300>\n",
    "\n",
    "The following isothermal first-order irreversible chemical reaction takes place in a parallel set of continuous stirred tank  reactors (CSTR):\n",
    "$$ A \\rightarrow B +C$$ \n",
    "Component $C$ is strongly volatile, such that we can safely assume that only components $A$ and $B$ leave any reactor\n",
    "in liquid phase. Afterwards, the main product B is separated from the unreacted raw material A in a set of high-purity distillation columns. Finally, compounds A and B from the reaction-separation train are collected in two separated mixers. We would like to compute the  flowrate of the main feedstream   ($F_o$), as well as the optimal split ($F^1_o,F^2_o,F^3_o$)\n",
    "of such stream,  such that process profit is maximized subject to meet product demands and holding raw material availability.\n",
    "\n",
    "\n",
    "<img src=\"fig1_small_plant.png\" width=800>\n",
    "\n",
    "The maximum available amount of  reactant A is   60000 [Kg/h], whereas the demand of the main product B is \n",
    "30000 [kg/h]. Moreover, the molecular weights of components A, B and C are 27, 20 and 7 [kg/kgmol], respectively. The cost of reactant A is 10 [Dll/Kg] and the selling price of   product B is 20 [Dll/Kg], respectively.\n",
    "You should also notice that there are bounds on the maximum amount of raw material that each CSTR can\n",
    "manufacture. \n",
    "\n",
    "\\begin{center}\n",
    "\\begin{tabular}{|c|cc|c|} \\hline\n",
    "      & K &  Residence time ($\\theta$) & Maximum load  \\\\ \n",
    "CSTR & [1/h]  & [h]  & [Kg] \\\\ \\hline     \n",
    "1  & 1 & 3 & 21600\\\\\n",
    "2 & 0.8 & 4.5 & 27000\\\\\n",
    "3 & 0.5 & 5 & 16200\n",
    "\\\\ \\hline\n",
    "\\end{tabular}\n",
    "\\end{center}\n",
    "\n",
    "\\begin{center}\n",
    "\\begin{tabular}{|c|cc|} \\hline\n",
    "             & Recovery Factors &  \\\\\n",
    "Column & $\\alpha$  & $\\beta$ \\\\ \\hline     \n",
    "1 & 0.97 & 0.03 \\\\\n",
    "2 & 0.98 & 0.02  \\\\\n",
    "3 & 0.96 & 0.01 \n",
    "\\\\ \\hline\n",
    "\\end{tabular}\n",
    "\\end{center}\n",
    "\\begin{itemize}\n",
    "\\item For a given  isothermal first-order chemical reactor $i$  the output molar flowrate is given as follows (the superscript $f$ stands for feed stream):\n",
    "$$ F_A,i = \\frac{F^f_A,i}{1+K_i\\theta_i} $$\n",
    "\n",
    "\\item You should note that for a given column $i$ the recovery factors are defined as follows (both recovery factors are defined for the distillate stream):\n",
    "$$ \\alpha_i = \\frac{F_A,i}{F^f_A,i}, \\quad \\beta_i = \\frac{F_B,i}{F^f_B,i}$$\n",
    "\n",
    "\n",
    "\\end{itemize}\n"
   ]
  },
  {
   "cell_type": "code",
   "execution_count": 1,
   "metadata": {},
   "outputs": [],
   "source": [
    "using JuMP, Clp, Printf, Plots"
   ]
  },
  {
   "cell_type": "code",
   "execution_count": 2,
   "metadata": {},
   "outputs": [],
   "source": [
    "small_plant = Model(solver=ClpSolver());"
   ]
  },
  {
   "cell_type": "code",
   "execution_count": 3,
   "metadata": {},
   "outputs": [],
   "source": [
    "mwa    = 27  # [kg/kgmol]\n",
    "mwb    = 20\n",
    "\n",
    "k1     = 1    # [1/h]\n",
    "k2     = 0.8\n",
    "k3     = 0.5\n",
    "theta1 = 3 # [h]\n",
    "theta2 = 4.5 \n",
    "theta3 = 5\n",
    "\n",
    "alpha1 = 0.97\n",
    "beta1  = 0.03\n",
    "alpha2 = 0.98\n",
    "beta2  = 0.02\n",
    "alpha3 = 0.96\n",
    "beta3  = 0.01 \n",
    "\n",
    "profit_b = 20 # [$/h]\n",
    "cost_a   = 10  # [$/h]\n",
    "demand_b = 30000 # [kg/h] \n",
    "fmax_a   = 60000 # Max amount available of reactant A [kg/h]\n",
    "\n",
    "fmax_r1  = 21600/mwa # Max capacity of reactor 1 [Kmol/h]\n",
    "fmax_r2  = 27000/mwa # Max capacity of reactor 2 [Kmol/h]\n",
    "fmax_r3  = 16200/mwa # Max capacity of reactor 3 [Kmol/h]\n",
    "fbound   = 2000;"
   ]
  },
  {
   "cell_type": "code",
   "execution_count": 4,
   "metadata": {},
   "outputs": [],
   "source": [
    "@variable(small_plant, fao1  >= 0, start = fbound)  # [kmol/h]\n",
    "@variable(small_plant, fao2  >= 0, start = fbound)  # [kmol/h]\n",
    "@variable(small_plant, fao3  >= 0, start = fbound)  # [kmol/h]\n",
    "@variable(small_plant, ffeed >= 0, start = fbound)  # [kmol/h]\n",
    "@variable(small_plant, f     >= 0, start = fbound)  # [kg/h]\n",
    "\n",
    "@variable(small_plant, fa1   >= 0, start = fbound)  # [kmol/h]\n",
    "@variable(small_plant, fa2   >= 0, start = fbound)  # [kmol/h]\n",
    "@variable(small_plant, fa3   >= 0, start = fbound)  # [kmol/h]\n",
    "@variable(small_plant, fb1   >= 0, start = fbound)  # [kmol/h]\n",
    "@variable(small_plant, fb2   >= 0, start = fbound)  # [kmol/h]\n",
    "@variable(small_plant, fb3   >= 0, start = fbound)  # [kmol/h]\n",
    "\n",
    "@variable(small_plant, fadc1_top >= 0, start = fbound)  # [kmol/h]\n",
    "@variable(small_plant, fbdc1_top >= 0, start = fbound)  # [kmol/h]\n",
    "@variable(small_plant, fadc1_bot >= 0, start = fbound)  # [kmol/h]\n",
    "@variable(small_plant, fbdc1_bot >= 0, start = fbound)  # [kmol/h]\n",
    "\n",
    "@variable(small_plant, fadc2_top >= 0, start = fbound)  # [kmol/h]\n",
    "@variable(small_plant, fbdc2_top >= 0, start = fbound)  # [kmol/h]\n",
    "@variable(small_plant, fadc2_bot >= 0, start = fbound)  # [kmol/h]\n",
    "@variable(small_plant, fbdc2_bot >= 0, start = fbound)  # [kmol/h]\n",
    "\n",
    "@variable(small_plant, fadc3_top >= 0, start = fbound)  # [kmol/h]\n",
    "@variable(small_plant, fbdc3_top >= 0, start = fbound)  # [kmol/h]\n",
    "@variable(small_plant, fadc3_bot >= 0, start = fbound)  # [kmol/h]\n",
    "@variable(small_plant, fbdc3_bot >= 0, start = fbound)  # [kmol/h]\n",
    "\n",
    "@variable(small_plant, fa_top    >= 0, start = fbound)  # [kmol/h]\n",
    "@variable(small_plant, fb_top    >= 0, start = fbound)  # [kmol/h]\n",
    "@variable(small_plant, f_top     >= 0, start = fbound)  # [kmol/h]\n",
    "@variable(small_plant, fma       >= 0               )  # [kmol/h]\n",
    "\n",
    "@variable(small_plant, fa_bot    >= 0, start = fbound)  # [kmol/h]\n",
    "@variable(small_plant, fb_bot    >= 0, start = fbound)  # [kmol/h]\n",
    "@variable(small_plant, f_bot     >= 0, start = fbound)  # [kmol/h]\n",
    "@variable(small_plant, fmb       >= 0               )  # [kmol/h];"
   ]
  },
  {
   "cell_type": "markdown",
   "metadata": {},
   "source": [
    "#### Molar flowrates from CSTRs"
   ]
  },
  {
   "cell_type": "code",
   "execution_count": 5,
   "metadata": {},
   "outputs": [],
   "source": [
    "@constraint(small_plant, c1, fa1 == fao1/(1+k1*theta1) )\n",
    "@constraint(small_plant, c2, fa2 == fao2/(1+k2*theta2) )\n",
    "@constraint(small_plant, c3, fa3 == fao3/(1+k3*theta3) )\n",
    "@constraint(small_plant, c4, fb1 == fao1-fa1 )\n",
    "@constraint(small_plant, c5, fb2 == fao2-fa2 )\n",
    "@constraint(small_plant, c6, fb3 == fao3-fa3 );"
   ]
  },
  {
   "cell_type": "markdown",
   "metadata": {},
   "source": [
    "#### Molar flowrates from Distillation Columns"
   ]
  },
  {
   "cell_type": "code",
   "execution_count": 6,
   "metadata": {},
   "outputs": [],
   "source": [
    "@constraint(small_plant, c7,   fadc1_top  == alpha1*fa1    )\n",
    "@constraint(small_plant, c8,   fbdc1_top  == beta1*fb1     )\n",
    "@constraint(small_plant, c9,   fadc1_bot  == fa1-fadc1_top )\n",
    "@constraint(small_plant, c10,  fbdc1_bot  == fb1-fbdc1_top )\n",
    "\n",
    "@constraint(small_plant, c11,  fadc2_top  == alpha2*fa2    )\n",
    "@constraint(small_plant, c12,  fbdc2_top  == beta2*fb2     )\n",
    "@constraint(small_plant, c13,  fadc2_bot  == fa2-fadc2_top )\n",
    "@constraint(small_plant, c14,  fbdc2_bot  == fb2-fbdc2_top )\n",
    "\n",
    "@constraint(small_plant, c15,  fadc3_top  == alpha3*fa3    )\n",
    "@constraint(small_plant, c16,  fbdc3_top  == beta3*fb3     )\n",
    "@constraint(small_plant, c17,  fadc3_bot  == fa3-fadc3_top )\n",
    "@constraint(small_plant, c18,  fbdc3_bot  == fb3-fbdc3_top );"
   ]
  },
  {
   "cell_type": "markdown",
   "metadata": {},
   "source": [
    "#### Mixers total flowrates"
   ]
  },
  {
   "cell_type": "code",
   "execution_count": 7,
   "metadata": {},
   "outputs": [],
   "source": [
    "@constraint(small_plant, c19, fa_top == fadc1_top +  fadc2_top +  + fadc3_top )\n",
    "@constraint(small_plant, c20, fb_top == fbdc1_top +  fbdc2_top +  + fbdc3_top )\n",
    "@constraint(small_plant, c21, f_top  == fa_top + fb_top                       )\n",
    "@constraint(small_plant, c22, fma    == mwa*f_top                             )\n",
    "\n",
    "@constraint(small_plant, c23, fa_bot == fadc1_bot +  fadc2_bot +  + fadc3_bot )\n",
    "@constraint(small_plant, c24, fb_bot == fbdc1_bot +  fbdc2_bot +  + fbdc3_bot )\n",
    "@constraint(small_plant, c25, f_bot  == fa_bot + fb_bot                       )\n",
    "@constraint(small_plant, c26, fmb    == mwb*f_bot                             );"
   ]
  },
  {
   "cell_type": "markdown",
   "metadata": {},
   "source": [
    "#### Meet product demand"
   ]
  },
  {
   "cell_type": "code",
   "execution_count": 8,
   "metadata": {},
   "outputs": [],
   "source": [
    "@constraint(small_plant, c27, fmb    >= demand_b );"
   ]
  },
  {
   "cell_type": "markdown",
   "metadata": {},
   "source": [
    "#### Available amount of reactant A"
   ]
  },
  {
   "cell_type": "code",
   "execution_count": 9,
   "metadata": {},
   "outputs": [],
   "source": [
    "@constraint(small_plant, c28, ffeed == fao1 + fao2 + fao3 );\n",
    "@constraint(small_plant, c29, f     == mwa*ffeed );\n",
    "@constraint(small_plant, c30, f     <= fmax_a );\n",
    "@constraint(small_plant, c31, fao1  <= fmax_r1 );\n",
    "@constraint(small_plant, c32, fao2  <= fmax_r2 );\n",
    "@constraint(small_plant, c33, fao3  <= fmax_r3 );"
   ]
  },
  {
   "cell_type": "code",
   "execution_count": 10,
   "metadata": {},
   "outputs": [],
   "source": [
    "@objective(small_plant, Max, profit_b*fmb - cost_a*f);"
   ]
  },
  {
   "cell_type": "code",
   "execution_count": 11,
   "metadata": {},
   "outputs": [
    {
     "data": {
      "text/plain": [
       ":Optimal"
      ]
     },
     "execution_count": 11,
     "metadata": {},
     "output_type": "execute_result"
    }
   ],
   "source": [
    "status_small_plant = solve(small_plant)"
   ]
  },
  {
   "cell_type": "code",
   "execution_count": 12,
   "metadata": {},
   "outputs": [
    {
     "name": "stdout",
     "output_type": "stream",
     "text": [
      "Objective function value = 65080.469289164874\n",
      " fao1 : 800.000000\n",
      " fao2 : 1000.000000\n",
      " fao3 : 422.222222\n",
      " ffeed: 2222.222222\n",
      " f    : 60000.000000\n",
      " fa1: 200.000000\n",
      " fb1: 600.000000\n",
      " fa2: 217.391304\n",
      " fb2: 782.608696\n",
      " fa3: 120.634921\n",
      " fb3: 301.587302\n",
      " fadc1_top: 194.000000\n",
      " fbdc1_top: 18.000000\n",
      " fadc1_bot: 6.000000\n",
      " fbdc1_bot: 582.000000\n",
      " fadc2_top: 213.043478\n",
      " fbdc2_top: 15.652174\n",
      " fadc2_bot: 4.347826\n",
      " fbdc2_bot: 766.956522\n",
      " fadc3_top: 115.809524\n",
      " fbdc3_top: 3.015873\n",
      " fadc3_bot: 4.825397\n",
      " fbdc3_bot: 298.571429\n",
      " fa_top: 522.853002\n",
      " fb_top: 36.668047\n",
      " f_top : 559.521049\n",
      " fma   : 15107.068323\n",
      " fa_bot: 15.173223\n",
      " fb_bot: 1647.527950\n",
      " f_bot : 1662.701173\n",
      " fmb   : 33254.023464\n",
      " FTOTAL: 48361.091787\n"
     ]
    }
   ],
   "source": [
    "println(\"Objective function value = \", getobjectivevalue(small_plant))\n",
    "\n",
    "@printf \" fao1 : %f\\n\" getvalue(fao1)\n",
    "@printf \" fao2 : %f\\n\" getvalue(fao2)\n",
    "@printf \" fao3 : %f\\n\" getvalue(fao3)\n",
    "@printf \" ffeed: %f\\n\" getvalue(ffeed)\n",
    "@printf \" f    : %f\\n\" getvalue(f)\n",
    "\n",
    "\n",
    "\n",
    "@printf \" fa1: %f\\n\" getvalue(fa1)\n",
    "@printf \" fb1: %f\\n\" getvalue(fb1)\n",
    "@printf \" fa2: %f\\n\" getvalue(fa2)\n",
    "@printf \" fb2: %f\\n\" getvalue(fb2)\n",
    "@printf \" fa3: %f\\n\" getvalue(fa3)\n",
    "@printf \" fb3: %f\\n\" getvalue(fb3)\n",
    "\n",
    "@printf \" fadc1_top: %f\\n\" getvalue(fadc1_top)\n",
    "@printf \" fbdc1_top: %f\\n\" getvalue(fbdc1_top)\n",
    "@printf \" fadc1_bot: %f\\n\" getvalue(fadc1_bot)\n",
    "@printf \" fbdc1_bot: %f\\n\" getvalue(fbdc1_bot)\n",
    "\n",
    "@printf \" fadc2_top: %f\\n\" getvalue(fadc2_top)\n",
    "@printf \" fbdc2_top: %f\\n\" getvalue(fbdc2_top)\n",
    "@printf \" fadc2_bot: %f\\n\" getvalue(fadc2_bot)\n",
    "@printf \" fbdc2_bot: %f\\n\" getvalue(fbdc2_bot)\n",
    "\n",
    "@printf \" fadc3_top: %f\\n\" getvalue(fadc3_top)\n",
    "@printf \" fbdc3_top: %f\\n\" getvalue(fbdc3_top)\n",
    "@printf \" fadc3_bot: %f\\n\" getvalue(fadc3_bot)\n",
    "@printf \" fbdc3_bot: %f\\n\" getvalue(fbdc3_bot)\n",
    "\n",
    "@printf \" fa_top: %f\\n\" getvalue(fa_top)\n",
    "@printf \" fb_top: %f\\n\" getvalue(fb_top)\n",
    "@printf \" f_top : %f\\n\" getvalue(f_top)\n",
    "@printf \" fma   : %f\\n\" getvalue(fma)\n",
    "\n",
    "@printf \" fa_bot: %f\\n\" getvalue(fa_bot)\n",
    "@printf \" fb_bot: %f\\n\" getvalue(fb_bot)\n",
    "@printf \" f_bot : %f\\n\" getvalue(f_bot)\n",
    "@printf \" fmb   : %f\\n\" getvalue(fmb)\n",
    "@printf \" FTOTAL: %f\\n\" getvalue(fma)+getvalue(fmb)\n"
   ]
  },
  {
   "cell_type": "code",
   "execution_count": null,
   "metadata": {},
   "outputs": [],
   "source": []
  }
 ],
 "metadata": {
  "kernelspec": {
   "display_name": "Julia 1.0.3",
   "language": "julia",
   "name": "julia-1.0"
  },
  "language_info": {
   "file_extension": ".jl",
   "mimetype": "application/julia",
   "name": "julia",
   "version": "1.0.3"
  }
 },
 "nbformat": 4,
 "nbformat_minor": 2
}
