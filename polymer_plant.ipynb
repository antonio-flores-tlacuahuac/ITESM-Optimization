{
 "cells": [
  {
   "cell_type": "code",
   "execution_count": 73,
   "metadata": {},
   "outputs": [],
   "source": [
    "using JuMP, Clp"
   ]
  },
  {
   "cell_type": "code",
   "execution_count": 74,
   "metadata": {},
   "outputs": [
    {
     "data": {
      "text/latex": [
       "$$ \\begin{alignat*}{1}\\min\\quad & 0\\\\\n",
       "\\text{Subject to} \\quad\\end{alignat*}\n",
       " $$"
      ],
      "text/plain": [
       "Feasibility problem with:\n",
       " * 0 linear constraints\n",
       " * 0 variables\n",
       "Solver is Clp"
      ]
     },
     "execution_count": 74,
     "metadata": {},
     "output_type": "execute_result"
    }
   ],
   "source": [
    "polymer_plant = Model(solver=ClpSolver())"
   ]
  },
  {
   "cell_type": "code",
   "execution_count": 75,
   "metadata": {},
   "outputs": [
    {
     "data": {
      "text/latex": [
       "$$ bcr4 $$"
      ],
      "text/plain": [
       "bcr4"
      ]
     },
     "execution_count": 75,
     "metadata": {},
     "output_type": "execute_result"
    }
   ],
   "source": [
    "@variable(polymer_plant, bar1 >= 0, start = 50)\n",
    "@variable(polymer_plant, bar2 >= 0, start = 50)\n",
    "@variable(polymer_plant, bar3 >= 0, start = 50)\n",
    "@variable(polymer_plant, bar4 >= 0, start = 50)\n",
    "@variable(polymer_plant, bbr1 >= 0, start = 50)\n",
    "@variable(polymer_plant, bbr2 >= 0, start = 50)\n",
    "@variable(polymer_plant, bbr3 >= 0, start = 50)\n",
    "@variable(polymer_plant, bbr4 >= 0, start = 50)\n",
    "@variable(polymer_plant, bcr1 >= 0, start = 50)\n",
    "@variable(polymer_plant, bcr2 >= 0, start = 50)\n",
    "@variable(polymer_plant, bcr3 >= 0, start = 50)\n",
    "@variable(polymer_plant, bcr4 >= 0, start = 50)"
   ]
  },
  {
   "cell_type": "code",
   "execution_count": 76,
   "metadata": {},
   "outputs": [
    {
     "data": {
      "text/latex": [
       "$$ 10 bar1 + 8 bar2 + 6 bar3 + 9 bar4 + 18 bbr1 + 20 bbr2 + 15 bbr3 + 17 bbr4 + 15 bcr1 + 6 bcr2 + 13 bcr3 + 7 bcr4 $$"
      ],
      "text/plain": [
       "10 bar1 + 8 bar2 + 6 bar3 + 9 bar4 + 18 bbr1 + 20 bbr2 + 15 bbr3 + 17 bbr4 + 15 bcr1 + 6 bcr2 + 13 bcr3 + 7 bcr4"
      ]
     },
     "execution_count": 76,
     "metadata": {},
     "output_type": "execute_result"
    }
   ],
   "source": [
    "@objective(polymer_plant, Max, 10bar1+8bar2+6bar3+9bar4+18bbr1+20bbr2+15bbr3+17bbr4+15bcr1+6bcr2+13bcr3+7bcr4)"
   ]
  },
  {
   "cell_type": "code",
   "execution_count": 77,
   "metadata": {},
   "outputs": [
    {
     "data": {
      "text/latex": [
       "$$ bcr1 + bcr2 + bcr3 + bcr4 \\leq 100 $$"
      ],
      "text/plain": [
       "bcr1 + bcr2 + bcr3 + bcr4 ≤ 100"
      ]
     },
     "execution_count": 77,
     "metadata": {},
     "output_type": "execute_result"
    }
   ],
   "source": [
    "@constraint(polymer_plant, c1, bar1 + bar2 + bar3 + bar4 <= 100)\n",
    "@constraint(polymer_plant, c2, bbr1 + bbr2 + bbr3 + bbr4 <= 150)\n",
    "@constraint(polymer_plant, c3, bcr1 + bcr2 + bcr3 + bcr4 <= 100)"
   ]
  },
  {
   "cell_type": "code",
   "execution_count": 78,
   "metadata": {},
   "outputs": [
    {
     "data": {
      "text/latex": [
       "$$ 10 bar4 + 15 bbr4 + 17 bcr4 \\leq 2400 $$"
      ],
      "text/plain": [
       "10 bar4 + 15 bbr4 + 17 bcr4 ≤ 2400"
      ]
     },
     "execution_count": 78,
     "metadata": {},
     "output_type": "execute_result"
    }
   ],
   "source": [
    "@constraint(polymer_plant, c4, 5bar1  + 6bbr1  + 13bcr1 <= 2400)\n",
    "@constraint(polymer_plant, c5, 7bar2  + 12bbr2 + 14bcr2 <= 2400)\n",
    "@constraint(polymer_plant, c6, 4bar3  + 8bbr3  + 9bcr3  <= 2400)\n",
    "@constraint(polymer_plant, c7, 10bar4 + 15bbr4 + 17bcr4 <= 2400)"
   ]
  },
  {
   "cell_type": "code",
   "execution_count": 79,
   "metadata": {},
   "outputs": [
    {
     "name": "stdout",
     "output_type": "stream",
     "text": [
      "Max 10 bar1 + 8 bar2 + 6 bar3 + 9 bar4 + 18 bbr1 + 20 bbr2 + 15 bbr3 + 17 bbr4 + 15 bcr1 + 6 bcr2 + 13 bcr3 + 7 bcr4\n",
      "Subject to\n",
      " bar1 + bar2 + bar3 + bar4 ≤ 100\n",
      " bbr1 + bbr2 + bbr3 + bbr4 ≤ 150\n",
      " bcr1 + bcr2 + bcr3 + bcr4 ≤ 100\n",
      " 5 bar1 + 6 bbr1 + 13 bcr1 ≤ 2400\n",
      " 7 bar2 + 12 bbr2 + 14 bcr2 ≤ 2400\n",
      " 4 bar3 + 8 bbr3 + 9 bcr3 ≤ 2400\n",
      " 10 bar4 + 15 bbr4 + 17 bcr4 ≤ 2400\n",
      " bar1 ≥ 0\n",
      " bar2 ≥ 0\n",
      " bar3 ≥ 0\n",
      " bar4 ≥ 0\n",
      " bbr1 ≥ 0\n",
      " bbr2 ≥ 0\n",
      " bbr3 ≥ 0\n",
      " bbr4 ≥ 0\n",
      " bcr1 ≥ 0\n",
      " bcr2 ≥ 0\n",
      " bcr3 ≥ 0\n",
      " bcr4 ≥ 0\n"
     ]
    }
   ],
   "source": [
    "print(polymer_plant)"
   ]
  },
  {
   "cell_type": "code",
   "execution_count": 80,
   "metadata": {},
   "outputs": [
    {
     "data": {
      "text/plain": [
       ":Optimal"
      ]
     },
     "execution_count": 80,
     "metadata": {},
     "output_type": "execute_result"
    }
   ],
   "source": [
    "status_polymer_model = solve(polymer_plant)"
   ]
  },
  {
   "cell_type": "code",
   "execution_count": 81,
   "metadata": {},
   "outputs": [
    {
     "name": "stdout",
     "output_type": "stream",
     "text": [
      "Objective function value = 5500.0\n"
     ]
    }
   ],
   "source": [
    "println(\"Objective function value = \", getobjectivevalue(polymer_plant))"
   ]
  },
  {
   "cell_type": "code",
   "execution_count": 82,
   "metadata": {},
   "outputs": [
    {
     "name": "stdout",
     "output_type": "stream",
     "text": [
      "bar1 =100.0\n",
      "bar2 =0.0\n",
      "bar3 =0.0\n",
      "bar4 =0.0\n",
      "bbr1 =0.0\n",
      "bbr2 =150.0\n",
      "bbr3 =0.0\n",
      "bbr4 =0.0\n",
      "bcr1 =100.0\n",
      "bcr2 =0.0\n",
      "bcr3 =0.0\n",
      "bcr4 =0.0\n",
      "Total A Batches : 100.0\n",
      "Total B Batches : 150.0\n",
      "Total C Batches : 100.0\n",
      "Objective function value = 5500.0\n"
     ]
    }
   ],
   "source": [
    "println(\"bar1 =\", getvalue(bar1))\n",
    "println(\"bar2 =\", getvalue(bar2))\n",
    "println(\"bar3 =\", getvalue(bar3))\n",
    "println(\"bar4 =\", getvalue(bar4))\n",
    "println(\"bbr1 =\", getvalue(bbr1))\n",
    "println(\"bbr2 =\", getvalue(bbr2))\n",
    "println(\"bbr3 =\", getvalue(bbr3))\n",
    "println(\"bbr4 =\", getvalue(bbr4))\n",
    "println(\"bcr1 =\", getvalue(bcr1))\n",
    "println(\"bcr2 =\", getvalue(bcr2))\n",
    "println(\"bcr3 =\", getvalue(bcr3))\n",
    "println(\"bcr4 =\", getvalue(bcr4))\n",
    "println(\"Total A Batches : \", getvalue(bar1)+getvalue(bar2)+getvalue(bar3)+getvalue(bar4))\n",
    "println(\"Total B Batches : \", getvalue(bbr1)+getvalue(bbr2)+getvalue(bbr3)+getvalue(bbr4))\n",
    "println(\"Total C Batches : \", getvalue(bcr1)+getvalue(bcr2)+getvalue(bcr3)+getvalue(bcr4))\n",
    "println(\"Objective function value = \", getobjectivevalue(polymer_plant))\n"
   ]
  },
  {
   "cell_type": "code",
   "execution_count": null,
   "metadata": {},
   "outputs": [],
   "source": []
  }
 ],
 "metadata": {
  "kernelspec": {
   "display_name": "Julia 1.0.3",
   "language": "julia",
   "name": "julia-1.0"
  },
  "language_info": {
   "file_extension": ".jl",
   "mimetype": "application/julia",
   "name": "julia",
   "version": "1.0.3"
  }
 },
 "nbformat": 4,
 "nbformat_minor": 2
}
