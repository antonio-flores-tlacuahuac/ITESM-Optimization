{
 "cells": [
  {
   "cell_type": "markdown",
   "metadata": {},
   "source": [
    "<img src=\"tec-logo.jpg\" width=300>\n",
    "\n",
    "## Optimal Power Demand\n",
    "\n",
    "Power demand in a medium size city is met using a combination of thermal power (TP) and combined cycle\n",
    "(CC) plants. Commonly, conventional thermal power plants  deploy oil, whereas combined cycle power plants run\n",
    "on natural gas. However, as shown in the next figure,  the first thermal power plant (TP$_1$) actually deploys a combination of both natural gas and oil. \n",
    "<img src=\"NP_fig1.png\" width=800>\n",
    "\n",
    "Even when normally power demand changes over a typical working day, by the time being\n",
    "we will assume that power demand is constant and set at 27,000 MWH. We will also assume  limiting availability of  natural gas and oil  of 14,400 and 18,000 m$^3$/h, respectively. Power profit is assumed to be 5 \\$/MW, while the costs of \n",
    "natural gas and oil are 1 and 0.5 \\$/MW, respectively. \n",
    "You should also note that each power plant can only process a maximum \n",
    "load of raw material. You are asked to determine the optimal distribution of gas natural and oil such that power profit is maximized. \n",
    "\\begin{center}\n",
    "\\begin{tabular}{|c|ccc|} \\hline\n",
    "      & Efficiency ($\\eta$) & Operating Cost & Maximum Load \\\\ \\hline\n",
    "Plant & [MW/m$^3$] & [\\$/MW] & [m$^3$/h] \\\\ \\hline\n",
    "TP$_1$ & 1(G), 0.5(O) & 0.05 & 7000(G), 8000(O)\\\\\n",
    "TP$_2$ & 0.8  & 0.03 & 7500 \\\\\n",
    "TP$_3$ & 0.6  & 0.08 & 8500 \\\\\n",
    "TP$_4$ & 0.7  & 0.07 & 7300 \\\\\n",
    "CC$_1$ & 1.2 & 0.05 & 9500 \\\\\n",
    "CC$_2$ & 1.3 & 0.04 &  12000 \\\\ \\hline\n",
    "\\end{tabular}\n",
    "\\end{center}\n",
    "At each power plant, output power ($P$) [MWH ]is calculated as follows:\n",
    "$$ P_i = \\eta _i \\cdot F^f_i, \\quad i=TP_1,...,CC_2 $$\n",
    "where $F^f$ is the entering flowrate of fuel [m$^3$/h].\n"
   ]
  },
  {
   "cell_type": "code",
   "execution_count": 14,
   "metadata": {},
   "outputs": [],
   "source": [
    "using JuMP, Clp, Plots, Printf"
   ]
  },
  {
   "cell_type": "code",
   "execution_count": 15,
   "metadata": {},
   "outputs": [],
   "source": [
    "power_networkplant = Model(solver=ClpSolver());"
   ]
  },
  {
   "cell_type": "code",
   "execution_count": 16,
   "metadata": {},
   "outputs": [],
   "source": [
    "eta1_pp1 = 1  # Plant efficiency [MW/m3]\n",
    "eta2_pp1 = 0.5\n",
    "eta_pp2  = 0.8\n",
    "eta_pp3  = 0.6\n",
    "eta_pp4  = 0.7\n",
    "eta_cc1  = 1.2\n",
    "eta_cc2  = 1.3 ;\n",
    "\n",
    "Power_demand = 27000  # [MW/h]\n",
    "\n",
    "Profit_power = 5 # [$/MW]\n",
    "cost_gas     = 1 # [$/MW]\n",
    "cost_oil     = 0.5 # [$/MW]\n",
    "cost_pp1     = 0.05 \n",
    "cost_pp2     = 0.03 \n",
    "cost_pp3     = 0.08\n",
    "cost_pp4     = 0.07\n",
    "cost_pc1     = 0.05\n",
    "cost_pc2     = 0.04\n",
    "\n",
    "load_pp1_g   = 7000 # [m3/h]\n",
    "load_pp1_o   = 8000 # [m3/h]\n",
    "load_pp2     = 7500 # [m3/h]\n",
    "load_pp3     = 8500 # [m3/h]\n",
    "load_pp4     = 7300 # [m3/h]\n",
    "load_pc1     = 9500 # [m3/h]\n",
    "load_pc2     = 12000 # [m3/h]\n",
    "\n",
    "fg_available = 14400 # [m3/h]\n",
    "fo_available = 18000 # [m3/h];"
   ]
  },
  {
   "cell_type": "code",
   "execution_count": 17,
   "metadata": {},
   "outputs": [],
   "source": [
    "@variable(power_networkplant, fg    >= 0, start = 1000)  # [m3/h]\n",
    "@variable(power_networkplant, fg1   >= 0, start = 1000)  # [m3/h]\n",
    "@variable(power_networkplant, fg2   >= 0, start = 1000)  # [m3/h]\n",
    "@variable(power_networkplant, fg21  >= 0, start = 1000)  # [m3/h]\n",
    "@variable(power_networkplant, fg22  >= 0, start = 1000)  # [m3/h]\n",
    "\n",
    "@variable(power_networkplant, fo    >= 0, start = 1000)  # [m3/h]\n",
    "@variable(power_networkplant, fo1   >= 0, start = 1000)  # [m3/h]\n",
    "@variable(power_networkplant, fo2   >= 0, start = 1000)  # [m3/h]\n",
    "@variable(power_networkplant, fo21  >= 0, start = 1000)  # [m3/h]\n",
    "@variable(power_networkplant, fo22  >= 0, start = 1000)  # [m3/h]\n",
    "@variable(power_networkplant, fo23  >= 0, start = 1000)  # [m3/h]\n",
    "@variable(power_networkplant, fo24  >= 0, start = 1000)  # [m3/h]\n",
    "\n",
    "@variable(power_networkplant, P_pe1 >= 0, start = 1000)  # [m3/h]\n",
    "@variable(power_networkplant, P_pe2 >= 0, start = 1000)  # [m3/h]\n",
    "@variable(power_networkplant, P_pe3 >= 0, start = 1000)  # [m3/h]\n",
    "@variable(power_networkplant, P_pe4 >= 0, start = 1000)  # [m3/h]\n",
    "@variable(power_networkplant, P_cc1 >= 0, start = 1000)  # [m3/h]\n",
    "@variable(power_networkplant, P_cc2 >= 0, start = 1000)  # [m3/h]\n",
    "@variable(power_networkplant, P_tot >= 0, start = 1000)  # [m3/h];"
   ]
  },
  {
   "cell_type": "markdown",
   "metadata": {},
   "source": [
    "#### Mass balance constraints for gas running plants"
   ]
  },
  {
   "cell_type": "code",
   "execution_count": 18,
   "metadata": {},
   "outputs": [],
   "source": [
    "@constraint(power_networkplant, c1,   fg   == fg1 + fg2       )\n",
    "@constraint(power_networkplant, c2,   fg1  <= fg              )\n",
    "@constraint(power_networkplant, c3,   fg2  <= fg              )\n",
    "@constraint(power_networkplant, c4,   fg2  == fg21   + fg22   )\n",
    "@constraint(power_networkplant, c5,   fg21 <= fg2             )\n",
    "@constraint(power_networkplant, c6,   fg22 <= fg2             );"
   ]
  },
  {
   "cell_type": "markdown",
   "metadata": {},
   "source": [
    "#### Mass balance constraints for oil running plants"
   ]
  },
  {
   "cell_type": "code",
   "execution_count": 19,
   "metadata": {},
   "outputs": [],
   "source": [
    "@constraint(power_networkplant, c7,   fo   == fo1 +       fo2 )\n",
    "@constraint(power_networkplant, c8,   fo1  <= fo              )\n",
    "@constraint(power_networkplant, c9,   fo2  <= fo              )\n",
    "@constraint(power_networkplant, c10,  fo2  == fo21 + fo22 + fo23 + fo24 )\n",
    "@constraint(power_networkplant, c11, fo21 <= fo2              )\n",
    "@constraint(power_networkplant, c12, fo22 <= fo2              )\n",
    "@constraint(power_networkplant, c13, fo23 <= fo2              )\n",
    "@constraint(power_networkplant, c14, fo24 <= fo2              );"
   ]
  },
  {
   "cell_type": "markdown",
   "metadata": {},
   "source": [
    "#### Power manufacture"
   ]
  },
  {
   "cell_type": "code",
   "execution_count": 20,
   "metadata": {},
   "outputs": [],
   "source": [
    "@constraint(power_networkplant, c15,   P_pe1   == eta1_pp1*fg1 + eta2_pp1*(fo1+fo21) )\n",
    "@constraint(power_networkplant, c16,   P_pe2   == eta_pp2*fo22 )\n",
    "@constraint(power_networkplant, c17,   P_pe3   == eta_pp3*fo23 )\n",
    "@constraint(power_networkplant, c18,   P_pe4   == eta_pp4*fo24 )\n",
    "@constraint(power_networkplant, c19,   P_cc1   == eta_cc1*fg21 )\n",
    "@constraint(power_networkplant, c20,   P_cc2   == eta_cc2*fg22 )\n",
    "@constraint(power_networkplant, c21,   P_tot   == P_pe1+P_pe2+P_pe3+P_pe4+P_cc1+P_cc2 );"
   ]
  },
  {
   "cell_type": "markdown",
   "metadata": {},
   "source": [
    "#### Maximum capacity  constraints"
   ]
  },
  {
   "cell_type": "code",
   "execution_count": 21,
   "metadata": {},
   "outputs": [],
   "source": [
    "@constraint(power_networkplant, c23,   fg1      <= load_pp1_g )\n",
    "@constraint(power_networkplant, c24,   fo1+fo21 <= load_pp1_o )\n",
    "@constraint(power_networkplant, c25,   fo22     <= load_pp2   )\n",
    "@constraint(power_networkplant, c26,   fo23     <= load_pp3   )\n",
    "@constraint(power_networkplant, c27,   fo24     <= load_pp4   )\n",
    "@constraint(power_networkplant, c28,   fg21     <= load_pc1   )\n",
    "@constraint(power_networkplant, c29,   fg22     <= load_pc2   );"
   ]
  },
  {
   "cell_type": "markdown",
   "metadata": {},
   "source": [
    "#### Maximum raw material availability [m3/h]"
   ]
  },
  {
   "cell_type": "code",
   "execution_count": 22,
   "metadata": {},
   "outputs": [],
   "source": [
    "@constraint(power_networkplant, c30,   fg   <= fg_available )\n",
    "@constraint(power_networkplant, c31,   fo   <= fo_available );"
   ]
  },
  {
   "cell_type": "markdown",
   "metadata": {},
   "source": [
    "#### Power demand"
   ]
  },
  {
   "cell_type": "code",
   "execution_count": 23,
   "metadata": {},
   "outputs": [],
   "source": [
    "@constraint(power_networkplant, c32,   P_tot   <= Power_demand );"
   ]
  },
  {
   "cell_type": "code",
   "execution_count": 24,
   "metadata": {},
   "outputs": [],
   "source": [
    "@objective(power_networkplant, Max, Profit_power*P_tot - cost_gas*fg - cost_oil*fo - cost_pp1*P_pe1 - \n",
    "           cost_pp2*P_pe2 - cost_pp3*P_pe3 - cost_pp4*P_pe4 - cost_pc1*P_cc1 - cost_pc2*P_cc2);"
   ]
  },
  {
   "cell_type": "code",
   "execution_count": 25,
   "metadata": {},
   "outputs": [
    {
     "data": {
      "text/plain": [
       ":Optimal"
      ]
     },
     "execution_count": 25,
     "metadata": {},
     "output_type": "execute_result"
    }
   ],
   "source": [
    "status_power_networkplant = solve(power_networkplant)"
   ]
  },
  {
   "cell_type": "code",
   "execution_count": 26,
   "metadata": {},
   "outputs": [
    {
     "name": "stdout",
     "output_type": "stream",
     "text": [
      "Objective function value = 114182.13333333333\n",
      " fg   : 12241.666667\n",
      " fg1  : 0.000000\n",
      " fg2  : 12241.666667\n",
      " fg21 : 241.666667\n",
      " fg22 : 12000.000000\n",
      " fo1  : 0.000000\n",
      " fo2  : 14800.000000\n",
      " fo21 : 0.000000\n",
      " fo22 : 7500.000000\n",
      " fo23 : 0.000000\n",
      " fo24 : 7300.000000\n",
      " fo   : 14800.000000\n",
      " P_pe1: 0.000000\n",
      " P_pe2: 6000.000000\n",
      " P_pe3: 0.000000\n",
      " P_pe4: 5110.000000\n",
      " P_cc1: 290.000000\n",
      " P_cc2: 15600.000000\n",
      " P_tot: 27000.000000\n"
     ]
    }
   ],
   "source": [
    "println(\"Objective function value = \", getobjectivevalue(power_networkplant))\n",
    "\n",
    "@printf \" fg   : %f\\n\" getvalue(fg)\n",
    "@printf \" fg1  : %f\\n\" getvalue(fg1)\n",
    "@printf \" fg2  : %f\\n\" getvalue(fg2)\n",
    "@printf \" fg21 : %f\\n\" getvalue(fg21)\n",
    "@printf \" fg22 : %f\\n\" getvalue(fg22)\n",
    "@printf \" fo1  : %f\\n\" getvalue(fo1)\n",
    "@printf \" fo2  : %f\\n\" getvalue(fo2)\n",
    "@printf \" fo21 : %f\\n\" getvalue(fo21)\n",
    "@printf \" fo22 : %f\\n\" getvalue(fo22)\n",
    "@printf \" fo23 : %f\\n\" getvalue(fo23)\n",
    "@printf \" fo24 : %f\\n\" getvalue(fo24)\n",
    "@printf \" fo   : %f\\n\" getvalue(fo)\n",
    "@printf \" P_pe1: %f\\n\" getvalue(P_pe1)\n",
    "@printf \" P_pe2: %f\\n\" getvalue(P_pe2)\n",
    "@printf \" P_pe3: %f\\n\" getvalue(P_pe3)\n",
    "@printf \" P_pe4: %f\\n\" getvalue(P_pe4)\n",
    "@printf \" P_cc1: %f\\n\" getvalue(P_cc1)\n",
    "@printf \" P_cc2: %f\\n\" getvalue(P_cc2)\n",
    "@printf \" P_tot: %f\\n\" getvalue(P_tot)\n"
   ]
  },
  {
   "cell_type": "code",
   "execution_count": 28,
   "metadata": {},
   "outputs": [
    {
     "ename": "ArgumentError",
     "evalue": "ArgumentError: Package Pgk not found in current path:\n- Run `import Pkg; Pkg.add(\"Pgk\")` to install the Pgk package.\n",
     "output_type": "error",
     "traceback": [
      "ArgumentError: Package Pgk not found in current path:\n- Run `import Pkg; Pkg.add(\"Pgk\")` to install the Pgk package.\n",
      "",
      "Stacktrace:",
      " [1] require(::Module, ::Symbol) at ./loading.jl:823",
      " [2] top-level scope at In[28]:1"
     ]
    }
   ],
   "source": [
    "import Pgk\n"
   ]
  },
  {
   "cell_type": "code",
   "execution_count": null,
   "metadata": {},
   "outputs": [],
   "source": []
  }
 ],
 "metadata": {
  "kernelspec": {
   "display_name": "Julia 1.0.3",
   "language": "julia",
   "name": "julia-1.0"
  },
  "language_info": {
   "file_extension": ".jl",
   "mimetype": "application/julia",
   "name": "julia",
   "version": "1.0.3"
  }
 },
 "nbformat": 4,
 "nbformat_minor": 2
}
