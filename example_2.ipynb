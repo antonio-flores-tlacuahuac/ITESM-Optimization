{
 "cells": [
  {
   "cell_type": "markdown",
   "metadata": {},
   "source": [
    "### Second Linear Programming Example\n",
    "### Written by Antonio Flores T. (ITESM, Energy Research Group)/ 11/Jan,2019"
   ]
  },
  {
   "cell_type": "code",
   "execution_count": 1,
   "metadata": {},
   "outputs": [
    {
     "name": "stdout",
     "output_type": "stream",
     "text": [
      "Max 5 x[1] + 4 x[2] + 3 x[3]\n",
      "Subject to\n",
      " 2 x[1] + 3 x[2] + x[3] ≤ 5\n",
      " 4 x[1] + x[2] + 2 x[3] ≤ 11\n",
      " 3 x[1] + 4 x[2] + 2 x[3] ≤ 8\n",
      " 0 ≤ x[1] ≤ 5\n",
      " x[2] ≥ 0\n",
      " x[3] ≤ 7\n",
      " x[i] ∀ i ∈ {1,2,3}\n",
      "Status of the problem is: Optimal\n",
      "Objective function value = 12.999999999999998\n",
      "x[1] = 2.0\n",
      "x[2] = -0.0\n",
      "x[3] = 0.9999999999999996\n"
     ]
    }
   ],
   "source": [
    "# Load the algebraic language and solver to be used\n",
    "#\n",
    "using JuMP, Clp\n",
    "#\n",
    "# Declare the name of your problem and solver to be used\n",
    "#\n",
    "my_model = Model(solver=ClpSolver())\n",
    "#\n",
    "# Constant terms\n",
    "#\n",
    "c = [5; 4; 3] # Coefficients of objective function\n",
    "A = [2 3 1; 4 1 2; 3 4 2] # Coefficients of constraints\n",
    "b = [5; 11; 8] # RHS of constraints\n",
    "#\n",
    "# Declare decision variables\n",
    "#\n",
    "@variable(my_model, x[1:3])\n",
    "#\n",
    "# Append the objective function\n",
    "#\n",
    "@objective(my_model, Max, sum(c[i]*x[i] for i=1:3))\n",
    "#\n",
    "# Include constraints\n",
    "#\n",
    "@constraint(my_model, constraint[j=1:3], sum(A[j,i]*x[i] for i=1:3) <= b[j])\n",
    "@constraint(my_model, boundx1, 0 <= x[1] <=5)\n",
    "@constraint(my_model, boundx2, x[2] >= 0)\n",
    "@constraint(my_model, boundx3, x[3] <= 7)\n",
    "#\n",
    "# Print formulation for visual checking\n",
    "#\n",
    "print(my_model)\n",
    "#\n",
    "# Solve the LP problem\n",
    "#\n",
    "status_mymodel= solve(my_model)\n",
    "#\n",
    "# Print optimal solution\n",
    "#\n",
    "println(\"Status of the problem is: \", status_mymodel)\n",
    "println(\"Objective function value = \", getobjectivevalue(my_model))\n",
    "for i=1:3\n",
    "  println(\"x[$i] = \", getvalue(x[i]))\n",
    "end"
   ]
  },
  {
   "cell_type": "code",
   "execution_count": null,
   "metadata": {},
   "outputs": [],
   "source": []
  }
 ],
 "metadata": {
  "kernelspec": {
   "display_name": "Julia 1.0.3",
   "language": "julia",
   "name": "julia-1.0"
  },
  "language_info": {
   "file_extension": ".jl",
   "mimetype": "application/julia",
   "name": "julia",
   "version": "1.0.3"
  }
 },
 "nbformat": 4,
 "nbformat_minor": 2
}
