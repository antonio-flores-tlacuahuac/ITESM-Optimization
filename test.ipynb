{
 "cells": [
  {
   "cell_type": "markdown",
   "metadata": {},
   "source": [
    "### First Linear Programming Example\n",
    "### Written by Antonio Flores T. (ITESM, Energy Research Group)/ 10/Jan,2019"
   ]
  },
  {
   "cell_type": "code",
   "execution_count": 1,
   "metadata": {},
   "outputs": [],
   "source": [
    "#import Pkg\n",
    "#Pkg.build(\"SpecialFunctions\")"
   ]
  },
  {
   "cell_type": "code",
   "execution_count": 2,
   "metadata": {},
   "outputs": [
    {
     "name": "stdout",
     "output_type": "stream",
     "text": [
      "Max 5 x1 + 4 x2 + 3 x3\n",
      "Subject to\n",
      " x1 ≥ 0.0\n",
      " x2 ≥ 0.0\n",
      " x1 ≤ 5.0\n",
      " x3 ≤ 7.0\n",
      " 2 x1 + 3 x2 + x3 ≤ 5.0\n",
      " 4 x1 + x2 + 2 x3 ≤ 11.0\n",
      " 3 x1 + 4 x2 + 2 x3 ≤ 8.0\n",
      "Coin0506I Presolve 3 (0) rows, 3 (0) columns and 9 (0) elements\n",
      "Clp0006I 0  Obj 21 Primal inf 2.9166664 (3) Dual inf 8.9999998 (2)\n",
      "Clp0006I 2  Obj 13\n",
      "Clp0000I Optimal - objective value 13\n",
      "Clp0032I Optimal objective 13 - 2 iterations time 0.002\n"
     ]
    },
    {
     "data": {
      "text/plain": [
       "0.9999999999999996"
      ]
     },
     "execution_count": 2,
     "metadata": {},
     "output_type": "execute_result"
    }
   ],
   "source": [
    "# Load the algebraic language and solver to be used\n",
    "#\n",
    "using JuMP\n",
    "using Clp\n",
    "#\n",
    "# Declare the name of your problem and solver to be used\n",
    "#\n",
    "#my_model = Model(solver=ClpSolver())\n",
    "my_model = Model(with_optimizer(Clp.Optimizer))\n",
    "#\n",
    "# Declare decision variables as well as their bounds\n",
    "#\n",
    "@variable(my_model, 0 <= x1 <= 5)\n",
    "@variable(my_model, x2 >= 0)\n",
    "@variable(my_model, x3 <= 7)\n",
    "#\n",
    "# Append the objective function\n",
    "#\n",
    "@objective(my_model, Max, 5x1 + 4x2 + 3x3)\n",
    "#\n",
    "# Include constraints\n",
    "#\n",
    "@constraint(my_model, con1, 2x1 + 3x2 + x3 <= 5)\n",
    "@constraint(my_model, con2, 4x1 + x2 + 2x3 <= 11)\n",
    "@constraint(my_model, con3, 3x1 + 4x2 + 2x3  <= 8)\n",
    "#\n",
    "# Print formulation for visual checking\n",
    "#\n",
    "print(my_model)\n",
    "#\n",
    "# Solve the LP problem\n",
    "#\n",
    "status_mymodel= optimize!(my_model)\n",
    "#\n",
    "# Print optimal solution\n",
    "#\n",
    "#println(\"Status of the problem is: \", status_mymodel)\n",
    "#println(\"Objective function value = \", getobjectivevalue(my_model))\n",
    "#println(\"x1 = \", getvalue(x1))\n",
    "#println(\"x2 = \", getvalue(x2))\n",
    "#println(\"x3 = \", getvalue(x3))\n",
    "\n",
    "objective_value(my_model)\n",
    "value(x1)\n",
    "value(x2)\n",
    "value(x3)"
   ]
  },
  {
   "cell_type": "code",
   "execution_count": 5,
   "metadata": {},
   "outputs": [
    {
     "data": {
      "text/plain": [
       "0.9999999999999996"
      ]
     },
     "execution_count": 5,
     "metadata": {},
     "output_type": "execute_result"
    }
   ],
   "source": [
    "value(x3)"
   ]
  },
  {
   "cell_type": "code",
   "execution_count": null,
   "metadata": {},
   "outputs": [],
   "source": []
  }
 ],
 "metadata": {
  "kernelspec": {
   "display_name": "Julia 1.0.4",
   "language": "julia",
   "name": "julia-1.0"
  },
  "language_info": {
   "file_extension": ".jl",
   "mimetype": "application/julia",
   "name": "julia",
   "version": "1.0.4"
  }
 },
 "nbformat": 4,
 "nbformat_minor": 2
}
