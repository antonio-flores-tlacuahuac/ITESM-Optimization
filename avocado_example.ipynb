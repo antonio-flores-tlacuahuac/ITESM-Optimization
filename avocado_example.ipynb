{
 "cells": [
  {
   "cell_type": "code",
   "execution_count": 1,
   "metadata": {},
   "outputs": [],
   "source": [
    "using JuMP, Clp"
   ]
  },
  {
   "cell_type": "code",
   "execution_count": 2,
   "metadata": {},
   "outputs": [
    {
     "data": {
      "text/latex": [
       "$$ \\begin{alignat*}{1}\\min\\quad & 0\\\\\n",
       "\\text{Subject to} \\quad\\end{alignat*}\n",
       " $$"
      ],
      "text/plain": [
       "Feasibility problem with:\n",
       " * 0 linear constraints\n",
       " * 0 variables\n",
       "Solver is Clp"
      ]
     },
     "execution_count": 2,
     "metadata": {},
     "output_type": "execute_result"
    }
   ],
   "source": [
    "avocado_model = Model(solver=ClpSolver())"
   ]
  },
  {
   "cell_type": "code",
   "execution_count": 3,
   "metadata": {},
   "outputs": [
    {
     "data": {
      "text/latex": [
       "$$ pb $$"
      ],
      "text/plain": [
       "pb"
      ]
     },
     "execution_count": 3,
     "metadata": {},
     "output_type": "execute_result"
    }
   ],
   "source": [
    "@variable(avocado_model, s1a >= 0, start = 100)\n",
    "@variable(avocado_model, s2a >= 0, start = 150)\n",
    "@variable(avocado_model, s3a >= 0, start = 200)\n",
    "@variable(avocado_model, s1b >= 0, start = 100)\n",
    "@variable(avocado_model, s2b >= 0, start = 150)\n",
    "@variable(avocado_model, s3b >= 0, start = 200)\n",
    "@variable(avocado_model, pa >= 0, start = 150)\n",
    "@variable(avocado_model, pb >= 0, start = 200)"
   ]
  },
  {
   "cell_type": "code",
   "execution_count": 4,
   "metadata": {},
   "outputs": [
    {
     "data": {
      "text/latex": [
       "$$ 24 pa + 29 pb - 14 s1a - 14.5 s1b - 12 s2a - 12.5 s2b - 15 s3a - 13 s3b $$"
      ],
      "text/plain": [
       "24 pa + 29 pb - 14 s1a - 14.5 s1b - 12 s2a - 12.5 s2b - 15 s3a - 13 s3b"
      ]
     },
     "execution_count": 4,
     "metadata": {},
     "output_type": "execute_result"
    }
   ],
   "source": [
    "@objective(avocado_model, Max, 50pa+50pb-26pa-21pb-11(s1a+s1b)-10(s2a+s2b)-9(s3a+s3b)-3s1a-3.5s1b- 2s2a \n",
    "                               -2.5s2b - 6s3a - 4s3b)"
   ]
  },
  {
   "cell_type": "code",
   "execution_count": 5,
   "metadata": {},
   "outputs": [
    {
     "data": {
      "text/latex": [
       "$$ s3a + s3b \\leq 420 $$"
      ],
      "text/plain": [
       "s3a + s3b ≤ 420"
      ]
     },
     "execution_count": 5,
     "metadata": {},
     "output_type": "execute_result"
    }
   ],
   "source": [
    "@constraint(avocado_model, c1, s1a+ s1b <= 200)\n",
    "@constraint(avocado_model, c2, s2a+ s2b <= 310)\n",
    "@constraint(avocado_model, c3, s3a+ s3b <= 420)"
   ]
  },
  {
   "cell_type": "code",
   "execution_count": 6,
   "metadata": {},
   "outputs": [
    {
     "data": {
      "text/latex": [
       "$$ s1b + s2b + s3b \\leq 560 $$"
      ],
      "text/plain": [
       "s1b + s2b + s3b ≤ 560"
      ]
     },
     "execution_count": 6,
     "metadata": {},
     "output_type": "execute_result"
    }
   ],
   "source": [
    "@constraint(avocado_model, c4, s1a + s2a + s3a <= 460)\n",
    "@constraint(avocado_model, c5, s1b + s2b + s3b <= 560)"
   ]
  },
  {
   "cell_type": "code",
   "execution_count": 7,
   "metadata": {},
   "outputs": [
    {
     "data": {
      "text/latex": [
       "$$ s1b + s2b + s3b - pb = 0 $$"
      ],
      "text/plain": [
       "s1b + s2b + s3b - pb = 0"
      ]
     },
     "execution_count": 7,
     "metadata": {},
     "output_type": "execute_result"
    }
   ],
   "source": [
    "@constraint(avocado_model, c6, s1a + s2a + s3a == pa)\n",
    "@constraint(avocado_model, c7, s1b + s2b + s3b == pb)"
   ]
  },
  {
   "cell_type": "code",
   "execution_count": 8,
   "metadata": {},
   "outputs": [
    {
     "name": "stdout",
     "output_type": "stream",
     "text": [
      "Max 24 pa + 29 pb - 14 s1a - 14.5 s1b - 12 s2a - 12.5 s2b - 15 s3a - 13 s3b\n",
      "Subject to\n",
      " s1a + s1b ≤ 200\n",
      " s2a + s2b ≤ 310\n",
      " s3a + s3b ≤ 420\n",
      " s1a + s2a + s3a ≤ 460\n",
      " s1b + s2b + s3b ≤ 560\n",
      " s1a + s2a + s3a - pa = 0\n",
      " s1b + s2b + s3b - pb = 0\n",
      " s1a ≥ 0\n",
      " s2a ≥ 0\n",
      " s3a ≥ 0\n",
      " s1b ≥ 0\n",
      " s2b ≥ 0\n",
      " s3b ≥ 0\n",
      " pa ≥ 0\n",
      " pb ≥ 0\n"
     ]
    }
   ],
   "source": [
    "print(avocado_model)"
   ]
  },
  {
   "cell_type": "code",
   "execution_count": 9,
   "metadata": {},
   "outputs": [
    {
     "data": {
      "text/plain": [
       ":Optimal"
      ]
     },
     "execution_count": 9,
     "metadata": {},
     "output_type": "execute_result"
    }
   ],
   "source": [
    "status_avocado_model = solve(avocado_model)"
   ]
  },
  {
   "cell_type": "code",
   "execution_count": 10,
   "metadata": {},
   "outputs": [
    {
     "name": "stdout",
     "output_type": "stream",
     "text": [
      "Status of solution:Optimal\n"
     ]
    }
   ],
   "source": [
    "println(\"Status of solution:\", status_avocado_model)"
   ]
  },
  {
   "cell_type": "code",
   "execution_count": 12,
   "metadata": {},
   "outputs": [
    {
     "name": "stdout",
     "output_type": "stream",
     "text": [
      "Objective function value = 13070.0\n"
     ]
    }
   ],
   "source": [
    "println(\"Objective function value = \", getobjectivevalue(avocado_model))"
   ]
  },
  {
   "cell_type": "code",
   "execution_count": 14,
   "metadata": {},
   "outputs": [
    {
     "name": "stdout",
     "output_type": "stream",
     "text": [
      "s1a =60.0\n",
      "s2a =310.0\n",
      "s3a =0.0\n",
      "s1b =140.0\n",
      "s2b =0.0\n",
      "s3b =420.0\n",
      "pa  =370.0\n",
      "pb  =560.0\n"
     ]
    }
   ],
   "source": [
    "println(\"s1a =\", getvalue(s1a))\n",
    "println(\"s2a =\", getvalue(s2a))\n",
    "println(\"s3a =\", getvalue(s3a))\n",
    "println(\"s1b =\", getvalue(s1b))\n",
    "println(\"s2b =\", getvalue(s2b))\n",
    "println(\"s3b =\", getvalue(s3b))\n",
    "println(\"pa  =\", getvalue(pa))\n",
    "println(\"pb  =\", getvalue(pb))\n",
    "\n"
   ]
  },
  {
   "cell_type": "code",
   "execution_count": 26,
   "metadata": {},
   "outputs": [
    {
     "name": "stdout",
     "output_type": "stream",
     "text": [
      "Gross Profit   = 46500.0\n",
      "Labor cost     = 21380.0\n",
      "Raw Mat. cost  = 9080.0\n",
      "Transport cost = 2970.0\n"
     ]
    }
   ],
   "source": [
    "gross_profit = 50*getvalue(pa)+50*getvalue(pb)\n",
    "labor = 26getvalue(pa)+21getvalue(pb)\n",
    "raw_material = 11(getvalue(s1a)+getvalue(s1b))+10(getvalue(s2a)+getvalue(s2b))+9(getvalue(s3a)+getvalue(s3b))\n",
    "transport = 3getvalue(s1a)+3.5getvalue(s1b)+ 2getvalue(s2a) +2.5getvalue(s2b) + 6getvalue(s3a) + 4getvalue(s3b)\n",
    "println(\"Gross Profit   = \", gross_profit)\n",
    "println(\"Labor cost     = \", labor)\n",
    "println(\"Raw Mat. cost  = \", raw_material)\n",
    "println(\"Transport cost = \", transport)\n"
   ]
  },
  {
   "cell_type": "code",
   "execution_count": null,
   "metadata": {},
   "outputs": [],
   "source": []
  }
 ],
 "metadata": {
  "kernelspec": {
   "display_name": "Julia 1.0.3",
   "language": "julia",
   "name": "julia-1.0"
  },
  "language_info": {
   "file_extension": ".jl",
   "mimetype": "application/julia",
   "name": "julia",
   "version": "1.0.3"
  }
 },
 "nbformat": 4,
 "nbformat_minor": 2
}
