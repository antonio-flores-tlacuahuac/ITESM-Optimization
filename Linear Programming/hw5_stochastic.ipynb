{
 "cells": [
  {
   "cell_type": "markdown",
   "metadata": {},
   "source": [
    "<img src=\"tec-logo.jpg\" width=200> \n",
    "\n",
    "<img src=\"EP_fig0.svg\" width=500> \n",
    "\n",
    "\n",
    "## In this problem we are interested in  determining the optimal investment capacity in various types of power plants so as to meet  period demands for electricity. Four power plants (P1,P2,P3,P4) are available and, in a typical  year,  they can operate in three different demand operating modes (M1,M2,M3). In each one of the 3 operating modes there is an energy demand (D1,D2,D3) to be met. There is a budget constraint and also a constraint on the minimum total power capacity. Solve the optimal power capacity problem taking into account that power demands at Modes 2 and 3 remain constant (3 and 2 GW, respectively) along the year. However, power demand at Mode 1 is uncertain. Therefore, 3 power uncertainty scenarios (S1,S2,S3) will be considered for addressing power variability in Mode 1. Power demand at these uncertain scenarios is given  as follows: 3, 5 and 7 GW, respectively.\n",
    "\n",
    "## Determine: The total installed power amount in each plant, as well as the amount of power output at each plant for each operating model such all operating constraints are met and minimizing the total anual cost.\n",
    "\n",
    "\n",
    "<img src=\"EP_fig1.svg\" width=700> \n",
    "\n",
    "| Plant \t| Investment cost \t|\n",
    "|:-----:\t|:---------------:\t|\n",
    "|   1   \t|        10       \t|\n",
    "|   2   \t|        7        \t|\n",
    "|   3   \t|        16       \t|\n",
    "|   4   \t|        6        \t|\n",
    "\n",
    "### Operating cost\n",
    "\n",
    "| Plant \t| Mode 1 \t| Mode 2 \t| Mode 3 \t|\n",
    "|:-----:\t|:------:\t|:------:\t|:------:\t|\n",
    "|   1   \t|   40   \t|   24   \t|    4   \t|\n",
    "|   2   \t|   45   \t|   27   \t|   4.5  \t|\n",
    "|   3   \t|   32   \t|  19.2  \t|   3.2  \t|\n",
    "|   4   \t|   55   \t|   33   \t|   5.5  \t|\n",
    "\n",
    "### Problem statement was taken from: Louveaux, F V, and Smeers, Y, Optimal Investments for Electricity Generation: A Stochastic Model and a Test Problem. In Ermoliev, Y, and Wets, R J, Eds, Numerical Techniques for Stochastic Optimization Problems. Springer Verlag, 1988, pp. 445-452.\n",
    "\n",
    "\n",
    "<img src=\"EP_fig2.svg\" width=700> "
   ]
  },
  {
   "cell_type": "code",
   "execution_count": 1,
   "metadata": {},
   "outputs": [],
   "source": [
    "using JuMP, Gurobi, Plots, Printf"
   ]
  },
  {
   "cell_type": "code",
   "execution_count": 2,
   "metadata": {},
   "outputs": [
    {
     "name": "stdout",
     "output_type": "stream",
     "text": [
      "Academic license - for non-commercial use only\n"
     ]
    }
   ],
   "source": [
    "energy_planning_model = Model(Gurobi.Optimizer);"
   ]
  },
  {
   "cell_type": "code",
   "execution_count": 3,
   "metadata": {},
   "outputs": [],
   "source": [
    "np   = 4                              # Number of power plants\n",
    "ns   = 3                              # Number of operating modes\n",
    "nu   = 3                              # Number of uncertain energy demands in scenario 1 \n",
    "m    = 12                             # Minimum installed capacity\n",
    "b    = 120                            # Budget limit\n",
    "c    = zeros(np)                      # Investment cost\n",
    "d    = zeros(ns)                      # Energy demand\n",
    "dvar = zeros(nu)                      # Variable energy demands in scenario 1\n",
    "f    = Array{Float64}(undef, np, ns)  # Operating cost\n",
    "npp  = 1:np\n",
    "nss  = 1:ns\n",
    "nuu  = 1:nu\n",
    "\n",
    "c    = [10 7 16 6]\n",
    "d    = [0 3 2]\n",
    "dvar = [3 5 7]\n",
    "f    = [40  24    4   ;\n",
    "        45  27    4.5 ;\n",
    "        32  19.2  3.2 ;\n",
    "        55  33    5.5 ];"
   ]
  },
  {
   "cell_type": "markdown",
   "metadata": {},
   "source": [
    "### First, let us solve the fully Deterministic energy planning problem\n",
    "\n",
    "<img src=\"EP_fig3.svg\" width=800> "
   ]
  },
  {
   "cell_type": "code",
   "execution_count": 4,
   "metadata": {},
   "outputs": [],
   "source": [
    "@variable(energy_planning_model, x[i in npp] >=  0)               # Installed capacity\n",
    "@variable(energy_planning_model, y[in in npp, j in nss] >= 0 )   # Operating level\n",
    "@variable(energy_planning_model, cost >=0) ;"
   ]
  },
  {
   "cell_type": "code",
   "execution_count": 5,
   "metadata": {},
   "outputs": [],
   "source": [
    "@constraint(energy_planning_model, mincap, sum(x[i] for i in npp) >= m ) ;"
   ]
  },
  {
   "cell_type": "code",
   "execution_count": 6,
   "metadata": {},
   "outputs": [],
   "source": [
    "@constraint(energy_planning_model, bbal, sum(c[i]*x[i] for i in npp) <= b ) ;"
   ]
  },
  {
   "cell_type": "code",
   "execution_count": 7,
   "metadata": {},
   "outputs": [],
   "source": [
    "@constraint(energy_planning_model, powbal[i in npp], sum(y[i,j] for j in nss) <= x[i] ) ;"
   ]
  },
  {
   "cell_type": "code",
   "execution_count": 8,
   "metadata": {},
   "outputs": [],
   "source": [
    "@constraint(energy_planning_model, dembal[j in nss], sum(y[i,j] for i in npp) >= d[j] ) ;"
   ]
  },
  {
   "cell_type": "code",
   "execution_count": 9,
   "metadata": {},
   "outputs": [],
   "source": [
    "@constraint(energy_planning_model,defcost,cost==sum(c[i]*x[i] for i in npp)+sum(f[i,j]*y[i,j] for i in npp, j in nss));"
   ]
  },
  {
   "cell_type": "code",
   "execution_count": 10,
   "metadata": {},
   "outputs": [],
   "source": [
    "@objective(energy_planning_model, Min, cost) ;"
   ]
  },
  {
   "cell_type": "code",
   "execution_count": 11,
   "metadata": {},
   "outputs": [
    {
     "name": "stdout",
     "output_type": "stream",
     "text": [
      "Academic license - for non-commercial use only\n",
      "Gurobi Optimizer version 9.0.1 build v9.0.1rc0 (mac64)\n",
      "Optimize a model with 10 rows, 17 columns and 53 nonzeros\n",
      "Model fingerprint: 0x254ef62b\n",
      "Coefficient statistics:\n",
      "  Matrix range     [1e+00, 6e+01]\n",
      "  Objective range  [1e+00, 1e+00]\n",
      "  Bounds range     [0e+00, 0e+00]\n",
      "  RHS range        [2e+00, 1e+02]\n",
      "Presolve removed 1 rows and 1 columns\n",
      "Presolve time: 0.00s\n",
      "Presolved: 9 rows, 16 columns, 36 nonzeros\n",
      "\n",
      "Iteration    Objective       Primal Inf.    Dual Inf.      Time\n",
      "       0    0.0000000e+00   1.300000e+01   0.000000e+00      0s\n",
      "       9    2.9300000e+02   0.000000e+00   0.000000e+00      0s\n",
      "\n",
      "Solved in 9 iterations and 0.00 seconds\n",
      "Optimal objective  2.930000000e+02\n"
     ]
    }
   ],
   "source": [
    "set_normalized_rhs(dembal[1], dvar[1])\n",
    "JuMP.optimize!(energy_planning_model)"
   ]
  },
  {
   "cell_type": "code",
   "execution_count": 12,
   "metadata": {},
   "outputs": [
    {
     "name": "stdout",
     "output_type": "stream",
     "text": [
      " Cost : 293.000000\n",
      "---------------------------------\n",
      "  Plant   Installed Capacity\n",
      "---------------------------------\n",
      "    1          3.000000\n",
      "    2          0.000000\n",
      "    3          3.000000\n",
      "    4          6.000000\n",
      "---------------------------------\n",
      "\n",
      "\n",
      "---------------------------------------------\n",
      "Plant   Mode    Operating Level\n",
      "---------------------------------------------\n",
      "  1       2         3.00\n",
      "  3       1         3.00\n",
      "  4       3         2.00\n",
      "--------------------------------------------\n"
     ]
    }
   ],
   "source": [
    "@printf(\" Cost : %f\\n\", JuMP.objective_value(energy_planning_model))\n",
    "println(\"---------------------------------\")\n",
    "println(\"  Plant   Installed Capacity\")\n",
    "println(\"---------------------------------\")\n",
    "for i = 1:np\n",
    "    @printf(\"    %i          %f\\n\", i, JuMP.value(x[i]))\n",
    "end\n",
    "println(\"---------------------------------\")\n",
    "\n",
    "println(\"\\n\")\n",
    "println(\"---------------------------------------------\")\n",
    "println(\"Plant   Mode    Operating Level\")\n",
    "println(\"---------------------------------------------\")\n",
    "for i = 1:np\n",
    "    for j = 1:ns\n",
    "            if JuMP.value(y[i,j]) > 0  \n",
    "                @printf(\"  %i       %i     %8.2f\\n\", i,j, JuMP.value(y[i,j]))\n",
    "            end\n",
    "    end\n",
    "end\n",
    "println(\"--------------------------------------------\")"
   ]
  },
  {
   "cell_type": "code",
   "execution_count": 13,
   "metadata": {},
   "outputs": [
    {
     "name": "stdout",
     "output_type": "stream",
     "text": [
      "Gurobi Optimizer version 9.0.1 build v9.0.1rc0 (mac64)\n",
      "Optimize a model with 10 rows, 17 columns and 53 nonzeros\n",
      "Coefficient statistics:\n",
      "  Matrix range     [1e+00, 6e+01]\n",
      "  Objective range  [1e+00, 1e+00]\n",
      "  Bounds range     [0e+00, 0e+00]\n",
      "  RHS range        [2e+00, 1e+02]\n",
      "Iteration    Objective       Primal Inf.    Dual Inf.      Time\n",
      "       0    3.7700000e+02   8.750000e-01   0.000000e+00      0s\n",
      "       3    3.7866667e+02   0.000000e+00   0.000000e+00      0s\n",
      "\n",
      "Solved in 3 iterations and 0.00 seconds\n",
      "Optimal objective  3.786666667e+02\n"
     ]
    }
   ],
   "source": [
    "set_normalized_rhs(dembal[1], dvar[2])\n",
    "JuMP.optimize!(energy_planning_model)"
   ]
  },
  {
   "cell_type": "code",
   "execution_count": 14,
   "metadata": {},
   "outputs": [
    {
     "name": "stdout",
     "output_type": "stream",
     "text": [
      " Cost : 378.666667\n",
      "---------------------------------\n",
      "  Plant   Installed Capacity\n",
      "---------------------------------\n",
      "    1          0.833333\n",
      "    2          3.000000\n",
      "    3          4.166667\n",
      "    4          4.000000\n",
      "---------------------------------\n",
      "\n",
      "\n",
      "---------------------------------------------\n",
      "Plant   Mode    Operating Level\n",
      "---------------------------------------------\n",
      "  1       1         0.83\n",
      "  2       2         3.00\n",
      "  3       1         4.17\n",
      "  4       3         2.00\n",
      "--------------------------------------------\n"
     ]
    }
   ],
   "source": [
    "@printf(\" Cost : %f\\n\", JuMP.objective_value(energy_planning_model))\n",
    "println(\"---------------------------------\")\n",
    "println(\"  Plant   Installed Capacity\")\n",
    "println(\"---------------------------------\")\n",
    "for i = 1:np\n",
    "    @printf(\"    %i          %f\\n\", i, JuMP.value(x[i]))\n",
    "end\n",
    "println(\"---------------------------------\")\n",
    "\n",
    "println(\"\\n\")\n",
    "println(\"---------------------------------------------\")\n",
    "println(\"Plant   Mode    Operating Level\")\n",
    "println(\"---------------------------------------------\")\n",
    "for i = 1:np\n",
    "    for j = 1:ns\n",
    "            if JuMP.value(y[i,j]) > 0  \n",
    "                @printf(\"  %i       %i     %8.2f\\n\", i,j, JuMP.value(y[i,j]))\n",
    "            end\n",
    "    end\n",
    "end\n",
    "println(\"--------------------------------------------\")"
   ]
  },
  {
   "cell_type": "code",
   "execution_count": 15,
   "metadata": {},
   "outputs": [
    {
     "name": "stdout",
     "output_type": "stream",
     "text": [
      "Gurobi Optimizer version 9.0.1 build v9.0.1rc0 (mac64)\n",
      "Optimize a model with 10 rows, 17 columns and 53 nonzeros\n",
      "Coefficient statistics:\n",
      "  Matrix range     [1e+00, 6e+01]\n",
      "  Objective range  [1e+00, 1e+00]\n",
      "  Bounds range     [0e+00, 0e+00]\n",
      "  RHS range        [2e+00, 1e+02]\n",
      "Iteration    Objective       Primal Inf.    Dual Inf.      Time\n",
      "       0    4.6933333e+02   0.000000e+00   0.000000e+00      0s\n",
      "\n",
      "Solved in 0 iterations and 0.00 seconds\n",
      "Optimal objective  4.693333333e+02\n"
     ]
    }
   ],
   "source": [
    "set_normalized_rhs(dembal[1], dvar[3])\n",
    "JuMP.optimize!(energy_planning_model)"
   ]
  },
  {
   "cell_type": "code",
   "execution_count": 16,
   "metadata": {},
   "outputs": [
    {
     "name": "stdout",
     "output_type": "stream",
     "text": [
      " Cost : 469.333333\n",
      "---------------------------------\n",
      "  Plant   Installed Capacity\n",
      "---------------------------------\n",
      "    1          4.166667\n",
      "    2          3.000000\n",
      "    3          2.833333\n",
      "    4          2.000000\n",
      "---------------------------------\n",
      "\n",
      "\n",
      "---------------------------------------------\n",
      "Plant   Mode    Operating Level\n",
      "---------------------------------------------\n",
      "  1       1         4.17\n",
      "  2       2         3.00\n",
      "  3       1         2.83\n",
      "  4       3         2.00\n",
      "--------------------------------------------\n"
     ]
    }
   ],
   "source": [
    "@printf(\" Cost : %f\\n\", JuMP.objective_value(energy_planning_model))\n",
    "println(\"---------------------------------\")\n",
    "println(\"  Plant   Installed Capacity\")\n",
    "println(\"---------------------------------\")\n",
    "for i = 1:np\n",
    "    @printf(\"    %i          %f\\n\", i, JuMP.value(x[i]))\n",
    "end\n",
    "println(\"---------------------------------\")\n",
    "\n",
    "println(\"\\n\")\n",
    "println(\"---------------------------------------------\")\n",
    "println(\"Plant   Mode    Operating Level\")\n",
    "println(\"---------------------------------------------\")\n",
    "for i = 1:np\n",
    "    for j = 1:ns\n",
    "            if JuMP.value(y[i,j]) > 0  \n",
    "                @printf(\"  %i       %i     %8.2f\\n\", i,j, JuMP.value(y[i,j]))\n",
    "            end\n",
    "    end\n",
    "end\n",
    "println(\"--------------------------------------------\")"
   ]
  },
  {
   "cell_type": "markdown",
   "metadata": {},
   "source": [
    "### Now, let us solve the Stochastic energy planning problem\n",
    "\n",
    "### Uncertainty Source: Energy Demand in Mode 1 of  3 operating modes\n",
    "\n",
    "<img src=\"EP_fig5.svg\" width=800> \n",
    "\n",
    "| Mode \t| Probabilty \t| Demand \t|\n",
    "|:----:\t|:----------:\t|:------:\t|\n",
    "|   1  \t|     0.3    \t|    3   \t|\n",
    "|   2  \t|     0.4    \t|    5   \t|\n",
    "|   3  \t|     0.3    \t|    7   \t|\n",
    "\n",
    "\n",
    "<img src=\"EP_fig4.svg\" width=800> "
   ]
  },
  {
   "cell_type": "code",
   "execution_count": 17,
   "metadata": {},
   "outputs": [
    {
     "name": "stdout",
     "output_type": "stream",
     "text": [
      "Academic license - for non-commercial use only\n"
     ]
    }
   ],
   "source": [
    "energy_planning_model_s = Model(Gurobi.Optimizer);"
   ]
  },
  {
   "cell_type": "code",
   "execution_count": 18,
   "metadata": {},
   "outputs": [],
   "source": [
    "ds    = Array{Float64}(undef, ns, nu)  # Stochastic demand\n",
    "alpha = zeros(ns)                      # Scenario probability\n",
    "\n",
    "alpha = [0.3  0.4  0.3]   # Uncertainty scenario probability\n",
    "ds    = [3  5  7  ;       # Demand Mode 1 (Uncertainty source)\n",
    "         3  3  3  ;       # Demand Mode 2\n",
    "         2  2  2  ];      # Demand Mode 3"
   ]
  },
  {
   "cell_type": "code",
   "execution_count": 19,
   "metadata": {},
   "outputs": [],
   "source": [
    "@variable(energy_planning_model_s, xs[i in npp] >=  0)                          # Installed capacity\n",
    "@variable(energy_planning_model_s, ys[in in npp, j in nss, s in nuu] >= 0 ) ;   # Uncertain operating level\n",
    "@variable(energy_planning_model_s, costs >=0) ;"
   ]
  },
  {
   "cell_type": "code",
   "execution_count": 20,
   "metadata": {},
   "outputs": [],
   "source": [
    "@constraint(energy_planning_model_s, mincaps, sum(xs[i] for i in npp) >= m ) ;"
   ]
  },
  {
   "cell_type": "code",
   "execution_count": 21,
   "metadata": {},
   "outputs": [],
   "source": [
    "@constraint(energy_planning_model_s, bbals, sum(c[i]*xs[i] for i in npp) <= b ) ;"
   ]
  },
  {
   "cell_type": "code",
   "execution_count": 22,
   "metadata": {},
   "outputs": [],
   "source": [
    "@constraint(energy_planning_model_s, powbals[i in npp, s in nuu], sum(ys[i,j,s] for j in nss) <= xs[i] ) ;"
   ]
  },
  {
   "cell_type": "code",
   "execution_count": 23,
   "metadata": {},
   "outputs": [],
   "source": [
    "@constraint(energy_planning_model_s, dembals[j in nss, s in nuu], sum(ys[i,j,s] for i in npp) >= ds[j,s] ) ;"
   ]
  },
  {
   "cell_type": "code",
   "execution_count": 24,
   "metadata": {},
   "outputs": [],
   "source": [
    "@constraint(energy_planning_model_s, defcosts, costs == sum(c[i]*xs[i] for i in npp) + sum(alpha[s]*f[i,j]*ys[i,j,s] \n",
    "                                                        for i in npp, j in nss, s in nuu)) ; "
   ]
  },
  {
   "cell_type": "code",
   "execution_count": 25,
   "metadata": {},
   "outputs": [],
   "source": [
    "@objective(energy_planning_model_s, Min, costs); "
   ]
  },
  {
   "cell_type": "code",
   "execution_count": 26,
   "metadata": {},
   "outputs": [
    {
     "name": "stdout",
     "output_type": "stream",
     "text": [
      "Academic license - for non-commercial use only\n",
      "Gurobi Optimizer version 9.0.1 build v9.0.1rc0 (mac64)\n",
      "Optimize a model with 24 rows, 41 columns and 133 nonzeros\n",
      "Model fingerprint: 0x8ce1a205\n",
      "Coefficient statistics:\n",
      "  Matrix range     [1e+00, 2e+01]\n",
      "  Objective range  [1e+00, 1e+00]\n",
      "  Bounds range     [0e+00, 0e+00]\n",
      "  RHS range        [2e+00, 1e+02]\n",
      "Presolve removed 1 rows and 1 columns\n",
      "Presolve time: 0.00s\n",
      "Presolved: 23 rows, 40 columns, 92 nonzeros\n",
      "\n",
      "Iteration    Objective       Primal Inf.    Dual Inf.      Time\n",
      "       0    0.0000000e+00   1.575000e+01   0.000000e+00      0s\n",
      "      25    3.8185333e+02   0.000000e+00   0.000000e+00      0s\n",
      "\n",
      "Solved in 25 iterations and 0.00 seconds\n",
      "Optimal objective  3.818533333e+02\n"
     ]
    }
   ],
   "source": [
    "JuMP.optimize!(energy_planning_model_s)"
   ]
  },
  {
   "cell_type": "code",
   "execution_count": 27,
   "metadata": {},
   "outputs": [
    {
     "name": "stdout",
     "output_type": "stream",
     "text": [
      " Stochastic Cost : 381.853333\n",
      "---------------------------------\n",
      "  Plant   Installed Capacity\n",
      "---------------------------------\n",
      "    1          2.666667\n",
      "    2          4.000000\n",
      "    3          3.333333\n",
      "    4          2.000000\n",
      "---------------------------------\n",
      "\n",
      "\n",
      "---------------------------------------------\n",
      "Plant   Mode    Scenario    Operating Level\n",
      "---------------------------------------------\n",
      "  1       1        2           1.67\n",
      "  1       1        3           2.67\n",
      "  1       2        1           2.67\n",
      "  1       2        2           1.00\n",
      "  2       1        3           1.00\n",
      "  2       2        2           2.00\n",
      "  2       2        3           3.00\n",
      "  2       3        1           2.00\n",
      "  2       3        2           2.00\n",
      "  3       1        1           3.00\n",
      "  3       1        2           3.33\n",
      "  3       1        3           3.33\n",
      "  3       2        1           0.33\n",
      "  4       3        3           2.00\n",
      "--------------------------------------------\n"
     ]
    }
   ],
   "source": [
    "@printf(\" Stochastic Cost : %f\\n\", JuMP.objective_value(energy_planning_model_s))\n",
    "println(\"---------------------------------\")\n",
    "println(\"  Plant   Installed Capacity\")\n",
    "println(\"---------------------------------\")\n",
    "for i = 1:np\n",
    "    @printf(\"    %i          %f\\n\", i, JuMP.value(xs[i]))\n",
    "end\n",
    "println(\"---------------------------------\")\n",
    "\n",
    "println(\"\\n\")\n",
    "println(\"---------------------------------------------\")\n",
    "println(\"Plant   Mode    Scenario    Operating Level\")\n",
    "println(\"---------------------------------------------\")\n",
    "for i = 1:np\n",
    "    for j = 1:ns\n",
    "        for s = 1:nu\n",
    "            if JuMP.value(ys[i,j,s]) > 0  \n",
    "                @printf(\"  %i       %i        %i       %8.2f\\n\", i,j,s, JuMP.value(ys[i,j,s]))\n",
    "            else\n",
    "            end\n",
    "        end\n",
    "    end\n",
    "end\n",
    "println(\"--------------------------------------------\")"
   ]
  },
  {
   "cell_type": "code",
   "execution_count": null,
   "metadata": {},
   "outputs": [],
   "source": []
  }
 ],
 "metadata": {
  "kernelspec": {
   "display_name": "Julia 1.3.1",
   "language": "julia",
   "name": "julia-1.3"
  },
  "language_info": {
   "file_extension": ".jl",
   "mimetype": "application/julia",
   "name": "julia",
   "version": "1.3.1"
  }
 },
 "nbformat": 4,
 "nbformat_minor": 4
}
