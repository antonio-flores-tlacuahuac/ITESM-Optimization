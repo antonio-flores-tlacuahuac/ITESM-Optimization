{
 "cells": [
  {
   "cell_type": "code",
   "execution_count": 103,
   "metadata": {},
   "outputs": [],
   "source": [
    "using JuMP, CPLEX, Plots, Printf"
   ]
  },
  {
   "cell_type": "code",
   "execution_count": 104,
   "metadata": {},
   "outputs": [],
   "source": [
    "mpy_carbon = 31000 ; # Maximum Production per year (GWh)\n",
    "mpy_oil    = 15000 ;\n",
    "mpy_gas    = 22000 ;\n",
    "mpy_res    = 10000 ;\n",
    "\n",
    "cost_carbon = 30 ;  # Production cost ($/Mwh)\n",
    "cost_oil    = 75 ;\n",
    "cost_gas    = 60 ;\n",
    "cost_res    = 90 ;\n",
    "\n",
    "co2_carbon  = 1.44 ; # CO2 emission coefficient (t/MWh)\n",
    "co2_oil     = 0.72 ;\n",
    "co2_gas     = 0.45 ;\n",
    "co2_res     = 0    ;\n",
    "\n",
    "y_demand    = 64000 ; # Yearly energy demand (GWh)\n",
    "\n",
    "base_load   = 0.6 ; # Enery load per production period\n",
    "medium_load = 0.3 ;\n",
    "peak_load   = 0.1 ;\n",
    "\n",
    "\n",
    "\n",
    "\n"
   ]
  },
  {
   "cell_type": "code",
   "execution_count": 105,
   "metadata": {},
   "outputs": [],
   "source": [
    "power_mo = Model(CPLEX.Optimizer);"
   ]
  },
  {
   "cell_type": "code",
   "execution_count": 106,
   "metadata": {},
   "outputs": [],
   "source": [
    "@variable(power_mo, carbon_base >= 0, start = base_load*y_demand);\n"
   ]
  },
  {
   "cell_type": "code",
   "execution_count": 107,
   "metadata": {},
   "outputs": [],
   "source": [
    "@variable(power_mo, carbon_medium >= 0, start = medium_load*y_demand);"
   ]
  },
  {
   "cell_type": "code",
   "execution_count": 108,
   "metadata": {},
   "outputs": [],
   "source": [
    "@variable(power_mo, oil_medium >= 0, start = medium_load*y_demand);"
   ]
  },
  {
   "cell_type": "code",
   "execution_count": 109,
   "metadata": {},
   "outputs": [],
   "source": [
    "@variable(power_mo, oil_peak >=0,  start = medium_load*y_demand);"
   ]
  },
  {
   "cell_type": "code",
   "execution_count": 110,
   "metadata": {},
   "outputs": [],
   "source": [
    "@variable(power_mo, gas_base >= 0, start = base_load*y_demand);"
   ]
  },
  {
   "cell_type": "code",
   "execution_count": 111,
   "metadata": {},
   "outputs": [],
   "source": [
    "@variable(power_mo, gas_medium >= 0, start = medium_load*y_demand);"
   ]
  },
  {
   "cell_type": "code",
   "execution_count": 112,
   "metadata": {},
   "outputs": [],
   "source": [
    "@variable(power_mo, gas_peak>= 0, start = peak_load*y_demand);"
   ]
  },
  {
   "cell_type": "code",
   "execution_count": 113,
   "metadata": {},
   "outputs": [],
   "source": [
    "@variable(power_mo, res_base >= 0, start = base_load*y_demand);"
   ]
  },
  {
   "cell_type": "code",
   "execution_count": 114,
   "metadata": {},
   "outputs": [],
   "source": [
    "@variable(power_mo, res_peak >= 0, start = peak_load*y_demand);"
   ]
  },
  {
   "cell_type": "code",
   "execution_count": 115,
   "metadata": {},
   "outputs": [],
   "source": [
    "@variable(power_mo, carbon >= 0, start = 0.5*mpy_carbon);"
   ]
  },
  {
   "cell_type": "code",
   "execution_count": 116,
   "metadata": {},
   "outputs": [],
   "source": [
    "@variable(power_mo, oil >= 0, start = 0.5*mpy_oil);"
   ]
  },
  {
   "cell_type": "code",
   "execution_count": 117,
   "metadata": {},
   "outputs": [],
   "source": [
    "@variable(power_mo, gas >= 0, start = 0.5*mpy_gas);"
   ]
  },
  {
   "cell_type": "code",
   "execution_count": 118,
   "metadata": {},
   "outputs": [],
   "source": [
    "@variable(power_mo, res >= 0, start = 0.5*mpy_res);"
   ]
  },
  {
   "cell_type": "code",
   "execution_count": 119,
   "metadata": {},
   "outputs": [],
   "source": [
    "@variable(power_mo, co2 >= 0, start = 50000);"
   ]
  },
  {
   "cell_type": "code",
   "execution_count": 120,
   "metadata": {},
   "outputs": [],
   "source": [
    "@variable(power_mo, cost >=0, start = 1e06);"
   ]
  },
  {
   "cell_type": "code",
   "execution_count": 121,
   "metadata": {},
   "outputs": [],
   "source": [
    "@constraint(power_mo, c1, co2 == co2_carbon*carbon + co2_oil*oil + co2_gas*gas + co2_res*res );"
   ]
  },
  {
   "cell_type": "code",
   "execution_count": 122,
   "metadata": {},
   "outputs": [],
   "source": [
    "@constraint(power_mo, c2,  carbon == carbon_base +carbon_medium);"
   ]
  },
  {
   "cell_type": "code",
   "execution_count": 123,
   "metadata": {},
   "outputs": [],
   "source": [
    "@constraint(power_mo, c3, oil == oil_medium + oil_peak) ;"
   ]
  },
  {
   "cell_type": "code",
   "execution_count": 124,
   "metadata": {},
   "outputs": [],
   "source": [
    "@constraint(power_mo, c4, gas == gas_base + gas_medium + gas_peak); "
   ]
  },
  {
   "cell_type": "code",
   "execution_count": 125,
   "metadata": {},
   "outputs": [],
   "source": [
    "@constraint(power_mo, c5, res == res_base + res_peak) ;"
   ]
  },
  {
   "cell_type": "code",
   "execution_count": 126,
   "metadata": {},
   "outputs": [],
   "source": [
    "@constraint(power_mo, c6, carbon_base + gas_base + res_base >= base_load*y_demand) ;"
   ]
  },
  {
   "cell_type": "code",
   "execution_count": 127,
   "metadata": {},
   "outputs": [],
   "source": [
    "@constraint(power_mo, c7, carbon_medium + oil_medium + gas_medium >= medium_load*y_demand);"
   ]
  },
  {
   "cell_type": "code",
   "execution_count": 128,
   "metadata": {},
   "outputs": [],
   "source": [
    "@constraint(power_mo, c8, oil_peak + gas_peak + res_peak >= peak_load*y_demand) ;"
   ]
  },
  {
   "cell_type": "code",
   "execution_count": 129,
   "metadata": {},
   "outputs": [],
   "source": [
    "@constraint(power_mo, c9, carbon <= mpy_carbon);"
   ]
  },
  {
   "cell_type": "code",
   "execution_count": 130,
   "metadata": {},
   "outputs": [],
   "source": [
    "@constraint(power_mo, c10, oil <= mpy_oil);"
   ]
  },
  {
   "cell_type": "code",
   "execution_count": 131,
   "metadata": {},
   "outputs": [],
   "source": [
    "@constraint(power_mo, c11, gas <= mpy_gas);"
   ]
  },
  {
   "cell_type": "code",
   "execution_count": 132,
   "metadata": {},
   "outputs": [],
   "source": [
    "@constraint(power_mo, c12, res <= mpy_res);"
   ]
  },
  {
   "cell_type": "code",
   "execution_count": 133,
   "metadata": {},
   "outputs": [
    {
     "data": {
      "text/latex": [
       "c13 : $ cost - 30 carbon - 75 oil - 60 gas - 90 res = 0.0 $"
      ],
      "text/plain": [
       "c13 : cost - 30 carbon - 75 oil - 60 gas - 90 res = 0.0"
      ]
     },
     "execution_count": 133,
     "metadata": {},
     "output_type": "execute_result"
    }
   ],
   "source": [
    "@constraint(power_mo, c13, cost == cost_carbon*carbon + cost_oil*oil + cost_gas*gas + cost_res*res)"
   ]
  },
  {
   "cell_type": "code",
   "execution_count": 134,
   "metadata": {},
   "outputs": [
    {
     "data": {
      "text/latex": [
       "$$ cost $$"
      ],
      "text/plain": [
       "cost"
      ]
     },
     "execution_count": 134,
     "metadata": {},
     "output_type": "execute_result"
    }
   ],
   "source": [
    "@objective(power_mo, Min, cost)"
   ]
  },
  {
   "cell_type": "code",
   "execution_count": 135,
   "metadata": {},
   "outputs": [
    {
     "name": "stdout",
     "output_type": "stream",
     "text": [
      "Tried aggregator 1 time.\n",
      "LP Presolve eliminated 6 rows and 2 columns.\n",
      "Reduced LP has 7 rows, 13 columns, and 22 nonzeros.\n",
      "Presolve time = 0.00 sec. (0.01 ticks)\n",
      "Initializing dual steep norms . . .\n",
      "\n",
      "Iteration log . . .\n",
      "Iteration:     1   Dual objective     =             0.000000\n"
     ]
    }
   ],
   "source": [
    "optimize!(power_mo)"
   ]
  },
  {
   "cell_type": "code",
   "execution_count": 136,
   "metadata": {},
   "outputs": [
    {
     "name": "stdout",
     "output_type": "stream",
     "text": [
      "Objective function value = 3.075e6\n",
      "CO2 Emissions = 62460.0\n",
      "-----------------------------\n",
      "\n",
      "    GLOBAL RESULTS\n",
      "\n",
      "Carbon = 31000.0\n",
      "Oil    = 11000.0\n",
      "Gas    = 22000.0\n",
      "RES    = 0.0\n",
      "-----------------------------\n",
      "\n",
      "    BASE PERIOD\n",
      "\n",
      "Carbon = 22800.0\n",
      "Gas    = 15600.0\n",
      "RES    = 0.0\n",
      "-----------------------------\n",
      "\n",
      "    MEDIUM PERIOD\n",
      "\n",
      "Carbon = 8200.0\n",
      "OiL    = 11000.0\n",
      "gas    = 0.0\n",
      "-----------------------------\n",
      "\n",
      "    PEAK PERIOD\n",
      "\n",
      "OiL    = 0.0\n",
      "gas    = 6400.0\n",
      "RES    = 0.0\n",
      "-----------------------------\n",
      "\n"
     ]
    }
   ],
   "source": [
    "println(\"Objective function value = \", JuMP.objective_value(power_mo))\n",
    "println(\"CO2 Emissions = \", JuMP.value(co2))\n",
    "\n",
    "println(\"-----------------------------\\n\")\n",
    "println(\"    GLOBAL RESULTS\\n\")\n",
    "println(\"Carbon = \", JuMP.value(carbon))\n",
    "println(\"Oil    = \", JuMP.value(oil))\n",
    "println(\"Gas    = \", JuMP.value(gas))\n",
    "println(\"RES    = \", JuMP.value(res))\n",
    "println(\"-----------------------------\\n\")\n",
    "println(\"    BASE PERIOD\\n\")\n",
    "println(\"Carbon = \", JuMP.value(carbon_base))\n",
    "println(\"Gas    = \", JuMP.value(gas_base))\n",
    "println(\"RES    = \", JuMP.value(res_base))\n",
    "println(\"-----------------------------\\n\")\n",
    "\n",
    "println(\"    MEDIUM PERIOD\\n\")\n",
    "println(\"Carbon = \", JuMP.value(carbon_medium))\n",
    "println(\"OiL    = \", JuMP.value(oil_medium))\n",
    "println(\"gas    = \", JuMP.value(gas_medium))\n",
    "println(\"-----------------------------\\n\")\n",
    "\n",
    "println(\"    PEAK PERIOD\\n\")\n",
    "println(\"OiL    = \", JuMP.value(oil_peak))\n",
    "println(\"gas    = \", JuMP.value(gas_peak))\n",
    "println(\"RES    = \", JuMP.value(res_peak))\n",
    "println(\"-----------------------------\\n\")\n",
    "   \n"
   ]
  },
  {
   "cell_type": "code",
   "execution_count": null,
   "metadata": {},
   "outputs": [],
   "source": []
  }
 ],
 "metadata": {
  "kernelspec": {
   "display_name": "Julia 1.3.1",
   "language": "julia",
   "name": "julia-1.3"
  },
  "language_info": {
   "file_extension": ".jl",
   "mimetype": "application/julia",
   "name": "julia",
   "version": "1.3.1"
  }
 },
 "nbformat": 4,
 "nbformat_minor": 2
}
